{
 "cells": [
  {
   "cell_type": "markdown",
   "metadata": {},
   "source": [
    "## How to Think Like a Computer Scientist\n",
    "#### Syntax Reference guide"
   ]
  },
  {
   "cell_type": "markdown",
   "metadata": {},
   "source": [
    "This notebook is a quick Python syntax reference guide I made while reading the book [How to Think Like a Computer Scientist.](http://www.greenteapress.com/thinkpython/thinkCSpy.pdf)"
   ]
  },
  {
   "cell_type": "markdown",
   "metadata": {},
   "source": [
    "This notebook covers the second half of the book (Chapters 11 - 20). The first half can be found [here.](https://github.com/zareenfarooqui/How-To-Think-Like-a-Computer-Scientist/blob/master/HTTLACS%20-%20CH%201%20through%2010.ipynb)"
   ]
  },
  {
   "cell_type": "markdown",
   "metadata": {},
   "source": [
    "## Chapter 11: Files and Exceptions"
   ]
  },
  {
   "cell_type": "markdown",
   "metadata": {},
   "source": [
    "Use a file to store data permanently. Working with a file is like working with a book. To use the book, you have to open it. When you're done, you close it. When the book is open, you can write or read in it. You know where you are in the book and you typically read in its natural order, but you can skip around."
   ]
  },
  {
   "cell_type": "markdown",
   "metadata": {},
   "source": [
    "Opening a file creates a file object. Open function takes two arguments - the name of the file and the mode. Mode \"w\" means we are opening file for writing. Mode \"r\" means for reading only. If there is no file with the name given, one will be created. If there is, is will be replaced by the file we are writing."
   ]
  },
  {
   "cell_type": "code",
   "execution_count": 15,
   "metadata": {
    "collapsed": false
   },
   "outputs": [
    {
     "name": "stdout",
     "output_type": "stream",
     "text": [
      "<open file 'test.dat', mode 'w' at 0x103e02ed0>\n"
     ]
    }
   ],
   "source": [
    "f = open(\"test.dat\", \"w\")\n",
    "print f"
   ]
  },
  {
   "cell_type": "markdown",
   "metadata": {},
   "source": [
    "Invoke `write` method on the file object to put data in the file."
   ]
  },
  {
   "cell_type": "code",
   "execution_count": 16,
   "metadata": {
    "collapsed": false
   },
   "outputs": [],
   "source": [
    "f.write(\"Now is the time\")\n",
    "f.write(\" to close the file \")"
   ]
  },
  {
   "cell_type": "code",
   "execution_count": 17,
   "metadata": {
    "collapsed": true
   },
   "outputs": [],
   "source": [
    "f.close()"
   ]
  },
  {
   "cell_type": "code",
   "execution_count": 18,
   "metadata": {
    "collapsed": true
   },
   "outputs": [],
   "source": [
    "f = open(\"test.dat\", \"r\")"
   ]
  },
  {
   "cell_type": "code",
   "execution_count": 19,
   "metadata": {
    "collapsed": false
   },
   "outputs": [
    {
     "name": "stdout",
     "output_type": "stream",
     "text": [
      "Now is the time to close the file \n"
     ]
    }
   ],
   "source": [
    "text = f.read()\n",
    "print text"
   ]
  },
  {
   "cell_type": "markdown",
   "metadata": {},
   "source": [
    "To read the first five characters:"
   ]
  },
  {
   "cell_type": "code",
   "execution_count": 20,
   "metadata": {
    "collapsed": false
   },
   "outputs": [
    {
     "name": "stdout",
     "output_type": "stream",
     "text": [
      "Now i\n"
     ]
    }
   ],
   "source": [
    "f = open(\"test.dat\", \"r\")\n",
    "print f.read(5)"
   ]
  },
  {
   "cell_type": "markdown",
   "metadata": {},
   "source": [
    "Function below copies a file, reading and writing up to 50 characters at a time. The first argument is the name of the original file, the second is the name of the new file. The `break` statement breaks out of the loop; the flow of execution moves to the first statement after the loop."
   ]
  },
  {
   "cell_type": "code",
   "execution_count": 24,
   "metadata": {
    "collapsed": true
   },
   "outputs": [],
   "source": [
    "def copyFile(oldFile, newFile):\n",
    "    f1 = open(oldFile, \"r\")\n",
    "    f2 = open(newFile, \"w\")\n",
    "    while True:\n",
    "        text = f1.read(50)\n",
    "        if text == \"\":\n",
    "            break\n",
    "        f2.write(text)\n",
    "    f1.close()\n",
    "    f2.close() "
   ]
  },
  {
   "cell_type": "markdown",
   "metadata": {},
   "source": [
    "Below is a text file with three lines of text separated by new lines:"
   ]
  },
  {
   "cell_type": "code",
   "execution_count": 25,
   "metadata": {
    "collapsed": true
   },
   "outputs": [],
   "source": [
    "f = open(\"test.dat\", \"w\")\n",
    "f.write(\"line one \\n line two \\n line three \\n\")\n",
    "f.close()"
   ]
  },
  {
   "cell_type": "markdown",
   "metadata": {},
   "source": [
    "`readline` method read all the characters up to and including the new line character."
   ]
  },
  {
   "cell_type": "code",
   "execution_count": 26,
   "metadata": {
    "collapsed": false
   },
   "outputs": [
    {
     "name": "stdout",
     "output_type": "stream",
     "text": [
      "line one \n",
      "\n"
     ]
    }
   ],
   "source": [
    "f = open(\"test.dat\", \"r\")\n",
    "print f.readline()"
   ]
  },
  {
   "cell_type": "markdown",
   "metadata": {},
   "source": [
    "`readlines` returns all the remaining lines as a list of strings."
   ]
  },
  {
   "cell_type": "code",
   "execution_count": 28,
   "metadata": {
    "collapsed": false
   },
   "outputs": [
    {
     "name": "stdout",
     "output_type": "stream",
     "text": [
      "[' line two \\n', ' line three \\n']\n"
     ]
    }
   ],
   "source": [
    "print f.readlines()"
   ]
  },
  {
   "cell_type": "markdown",
   "metadata": {},
   "source": [
    "Below is an example of a line-processing program. `filterFile` makes a copy of oldFile, omitting any lines that begin with #. `continue` statement ends the current iteration of the loop, but continues looping. The flow of execution movies to the top of the loop, check the condition, and proceeds accordingly."
   ]
  },
  {
   "cell_type": "code",
   "execution_count": 29,
   "metadata": {
    "collapsed": true
   },
   "outputs": [],
   "source": [
    "def filterFile(oldFile, newFile):\n",
    "    f1 = open(oldFile, \"r\")\n",
    "    f2 = open(newFile, \"w\")\n",
    "    while True:\n",
    "        text = f1.readline()\n",
    "        if text == \"\":\n",
    "            break\n",
    "        if text[0] == '#':\n",
    "            continue\n",
    "        f2.write(text)\n",
    "    f1.close()\n",
    "    f2.close()\n",
    "    return"
   ]
  },
  {
   "cell_type": "markdown",
   "metadata": {},
   "source": [
    "Arguments to `write` must be a string, so anything else must first be converted. Using `str` function is the easiest."
   ]
  },
  {
   "cell_type": "code",
   "execution_count": 31,
   "metadata": {
    "collapsed": false
   },
   "outputs": [],
   "source": [
    "f = open(\"test.dat\", \"w\")\n",
    "x = 52\n",
    "f.write(str(x))"
   ]
  },
  {
   "cell_type": "markdown",
   "metadata": {},
   "source": [
    "Can also use format operator %. This can be used anywhere in a sentence. Below the letter *d* stands for \"decimal\"."
   ]
  },
  {
   "cell_type": "code",
   "execution_count": 32,
   "metadata": {
    "collapsed": false
   },
   "outputs": [
    {
     "data": {
      "text/plain": [
       "'52'"
      ]
     },
     "execution_count": 32,
     "metadata": {},
     "output_type": "execute_result"
    }
   ],
   "source": [
    "cars = 52\n",
    "\"%d\" % cars"
   ]
  },
  {
   "cell_type": "code",
   "execution_count": 33,
   "metadata": {
    "collapsed": false
   },
   "outputs": [
    {
     "data": {
      "text/plain": [
       "'In July we sold 52 cars.'"
      ]
     },
     "execution_count": 33,
     "metadata": {},
     "output_type": "execute_result"
    }
   ],
   "source": [
    "cars = 52\n",
    "\"In July we sold %d cars.\" % cars"
   ]
  },
  {
   "cell_type": "markdown",
   "metadata": {},
   "source": [
    "\"%f\" converts to a floating point. \"%s\" converts to a string."
   ]
  },
  {
   "cell_type": "code",
   "execution_count": 34,
   "metadata": {
    "collapsed": false
   },
   "outputs": [
    {
     "data": {
      "text/plain": [
       "'In 34 days we made 6.100000 million dollars.'"
      ]
     },
     "execution_count": 34,
     "metadata": {},
     "output_type": "execute_result"
    }
   ],
   "source": [
    "\"In %d days we made %f million %s.\" %(34, 6.1, 'dollars')"
   ]
  },
  {
   "cell_type": "markdown",
   "metadata": {},
   "source": [
    "To specify the number of digits see below. The number after the percent sign is the minimum number of spaces the number will take up. If the value provided takes fewer digits, leading spaces are added. If the number is negative, trailing spaces are added."
   ]
  },
  {
   "cell_type": "code",
   "execution_count": 35,
   "metadata": {
    "collapsed": false
   },
   "outputs": [
    {
     "data": {
      "text/plain": [
       "'    62'"
      ]
     },
     "execution_count": 35,
     "metadata": {},
     "output_type": "execute_result"
    }
   ],
   "source": [
    "\"%6d\" % 62"
   ]
  },
  {
   "cell_type": "code",
   "execution_count": 36,
   "metadata": {
    "collapsed": false
   },
   "outputs": [
    {
     "data": {
      "text/plain": [
       "'    6.100000'"
      ]
     },
     "execution_count": 36,
     "metadata": {},
     "output_type": "execute_result"
    }
   ],
   "source": [
    "\"%12f\" % 6.1"
   ]
  },
  {
   "cell_type": "code",
   "execution_count": 37,
   "metadata": {
    "collapsed": false
   },
   "outputs": [
    {
     "data": {
      "text/plain": [
       "'62    '"
      ]
     },
     "execution_count": 37,
     "metadata": {},
     "output_type": "execute_result"
    }
   ],
   "source": [
    "\"%-6d\" % 62"
   ]
  },
  {
   "cell_type": "markdown",
   "metadata": {},
   "source": [
    "Can also specify the number of digits after the decimal point."
   ]
  },
  {
   "cell_type": "code",
   "execution_count": 38,
   "metadata": {
    "collapsed": false
   },
   "outputs": [
    {
     "data": {
      "text/plain": [
       "'        6.10'"
      ]
     },
     "execution_count": 38,
     "metadata": {},
     "output_type": "execute_result"
    }
   ],
   "source": [
    "\"%12.2f\" % 6.1"
   ]
  },
  {
   "cell_type": "markdown",
   "metadata": {},
   "source": [
    "In the example below, the dictionary contains student names as keys and hourly wages as values. The function prints the contents of the dictionary as a formatted report:"
   ]
  },
  {
   "cell_type": "code",
   "execution_count": 39,
   "metadata": {
    "collapsed": true
   },
   "outputs": [],
   "source": [
    "def report (wages):\n",
    "    students = wages.keys()\n",
    "    students.sort()\n",
    "    for student in students :\n",
    "        print \"%-20s %12.2f\" % (student, wages[student])"
   ]
  },
  {
   "cell_type": "code",
   "execution_count": 40,
   "metadata": {
    "collapsed": false
   },
   "outputs": [
    {
     "name": "stdout",
     "output_type": "stream",
     "text": [
      "joe                          5.45\n",
      "joshua                       4.25\n",
      "mary                         6.23\n"
     ]
    }
   ],
   "source": [
    "wages = {'mary': 6.23, 'joe': 5.45, 'joshua': 4.25}\n",
    "report (wages)"
   ]
  },
  {
   "cell_type": "markdown",
   "metadata": {},
   "source": [
    "When you open a file for reading, Python looks in the current dictionary. If you want to look somewhere else, you must specify the path, which is the name of the directory (or folder) where the file is located. You can't use / as part of a filename, it is reserved as a delimiter between directoy and filenames."
   ]
  },
  {
   "cell_type": "code",
   "execution_count": 41,
   "metadata": {
    "collapsed": false
   },
   "outputs": [
    {
     "name": "stdout",
     "output_type": "stream",
     "text": [
      "A\n",
      "\n"
     ]
    }
   ],
   "source": [
    "f = open(\"/usr/share/dict/words\", \"r\")\n",
    "print f.readline()"
   ]
  },
  {
   "cell_type": "markdown",
   "metadata": {},
   "source": [
    "Pickling \"preserves\" data structures. `pickle` module contains the necessary commands. To store a data structure, use the `dump` method and then close the file."
   ]
  },
  {
   "cell_type": "code",
   "execution_count": 45,
   "metadata": {
    "collapsed": true
   },
   "outputs": [],
   "source": [
    "import pickle\n",
    "f = open(\"test.pck\", \"w\")\n",
    "pickle.dump(12.3, f)\n",
    "pickle.dump([1,2,3], f)\n",
    "f.close()"
   ]
  },
  {
   "cell_type": "markdown",
   "metadata": {},
   "source": [
    "Then open the file for reading and load the data structures dumped."
   ]
  },
  {
   "cell_type": "code",
   "execution_count": 46,
   "metadata": {
    "collapsed": false
   },
   "outputs": [
    {
     "data": {
      "text/plain": [
       "12.3"
      ]
     },
     "execution_count": 46,
     "metadata": {},
     "output_type": "execute_result"
    }
   ],
   "source": [
    "f = open(\"test.pck\", \"r\")\n",
    "x = pickle.load(f)\n",
    "x"
   ]
  },
  {
   "cell_type": "code",
   "execution_count": 47,
   "metadata": {
    "collapsed": false
   },
   "outputs": [
    {
     "data": {
      "text/plain": [
       "float"
      ]
     },
     "execution_count": 47,
     "metadata": {},
     "output_type": "execute_result"
    }
   ],
   "source": [
    "type(x)"
   ]
  },
  {
   "cell_type": "code",
   "execution_count": 48,
   "metadata": {
    "collapsed": false
   },
   "outputs": [
    {
     "data": {
      "text/plain": [
       "[1, 2, 3]"
      ]
     },
     "execution_count": 48,
     "metadata": {},
     "output_type": "execute_result"
    }
   ],
   "source": [
    "y = pickle.load(f)\n",
    "y"
   ]
  },
  {
   "cell_type": "code",
   "execution_count": 49,
   "metadata": {
    "collapsed": false
   },
   "outputs": [
    {
     "data": {
      "text/plain": [
       "list"
      ]
     },
     "execution_count": 49,
     "metadata": {},
     "output_type": "execute_result"
    }
   ],
   "source": [
    "type(y)"
   ]
  },
  {
   "cell_type": "markdown",
   "metadata": {},
   "source": [
    "An exception is created when a runtime error occurs. The type of error is before the colon and the specifics of the error occur after the colon. If we want to execute an operation that could cause an exception, but don't want the program to stop, we can handle the exception by using the `try` and `except` statements."
   ]
  },
  {
   "cell_type": "markdown",
   "metadata": {},
   "source": [
    "Program below takes the name of the file and then tries to open it. If it doesn't exist, we want to handle the exception."
   ]
  },
  {
   "cell_type": "code",
   "execution_count": null,
   "metadata": {
    "collapsed": false
   },
   "outputs": [],
   "source": [
    "def exists(filename):\n",
    "try:\n",
    "    f = open (filename)\n",
    "    f.close()\n",
    "    return True\n",
    "except IOError:\n",
    "    return False"
   ]
  },
  {
   "cell_type": "markdown",
   "metadata": {},
   "source": [
    "Raise an exception if your program detects an error. Program below gets input from the user and checks for the value 17. Assuming 17 is not a valid input, we raise an exception. `raise` takes in exception type and specific information about the error. If the program handles the error, the program continues, otherwise Python prints the error message and exits."
   ]
  },
  {
   "cell_type": "code",
   "execution_count": 10,
   "metadata": {
    "collapsed": true
   },
   "outputs": [],
   "source": [
    "def inputNumber():\n",
    "    x = raw_input (\"Pick a number: \")\n",
    "    if x == 17:\n",
    "        raise ValueError, '17 is a bad number'\n",
    "    return x"
   ]
  },
  {
   "cell_type": "code",
   "execution_count": 11,
   "metadata": {
    "collapsed": false
   },
   "outputs": [
    {
     "name": "stdout",
     "output_type": "stream",
     "text": [
      "Pick a number: 17\n"
     ]
    },
    {
     "data": {
      "text/plain": [
       "'17'"
      ]
     },
     "execution_count": 11,
     "metadata": {},
     "output_type": "execute_result"
    }
   ],
   "source": [
    "inputNumber()"
   ]
  },
  {
   "cell_type": "markdown",
   "metadata": {},
   "source": [
    "## Chapter 12: Classes and Objects"
   ]
  },
  {
   "cell_type": "markdown",
   "metadata": {},
   "source": [
    "A class is a user defined compound type that is a template for the object that are instances of it. These are usually found near the beginning of a program."
   ]
  },
  {
   "cell_type": "markdown",
   "metadata": {},
   "source": [
    "Creating the `Point` class also creates a new type, called `Point`. Think of this as a mathematical point in two dimensions: (0, 0) or (x, y)"
   ]
  },
  {
   "cell_type": "code",
   "execution_count": 2,
   "metadata": {
    "collapsed": true
   },
   "outputs": [],
   "source": [
    "class Point:\n",
    "    pass"
   ]
  },
  {
   "cell_type": "markdown",
   "metadata": {},
   "source": [
    "Add new data to an instance using dot notation."
   ]
  },
  {
   "cell_type": "code",
   "execution_count": 3,
   "metadata": {
    "collapsed": false
   },
   "outputs": [
    {
     "name": "stdout",
     "output_type": "stream",
     "text": [
      "(3.0, 4.0)\n",
      "25.0\n"
     ]
    }
   ],
   "source": [
    "blank = Point()\n",
    "blank.x = 3.0\n",
    "blank.y = 4.0\n",
    "\n",
    "print '(' + str(blank.x) + ', ' + str(blank.y) + ')'\n",
    "distanceSquared = blank.x * blank.x + blank.y * blank.y\n",
    "print distanceSquared"
   ]
  },
  {
   "cell_type": "code",
   "execution_count": 4,
   "metadata": {
    "collapsed": true
   },
   "outputs": [],
   "source": [
    "def printPoint(p):\n",
    "    print '(' + str(p.x) + ', ' + str(p.y) + ')'"
   ]
  },
  {
   "cell_type": "code",
   "execution_count": 5,
   "metadata": {
    "collapsed": false
   },
   "outputs": [
    {
     "name": "stdout",
     "output_type": "stream",
     "text": [
      "(3.0, 4.0)\n"
     ]
    }
   ],
   "source": [
    "printPoint(blank)"
   ]
  },
  {
   "cell_type": "markdown",
   "metadata": {
    "collapsed": true
   },
   "source": [
    "\"Sameness\" has ambiguity. \"We have the same car\" vs \"We have the same mother\". "
   ]
  },
  {
   "cell_type": "markdown",
   "metadata": {
    "collapsed": true
   },
   "source": [
    "To find out if two references refer to the same object, use the `is` operator:"
   ]
  },
  {
   "cell_type": "code",
   "execution_count": 13,
   "metadata": {
    "collapsed": false
   },
   "outputs": [
    {
     "data": {
      "text/plain": [
       "False"
      ]
     },
     "execution_count": 13,
     "metadata": {},
     "output_type": "execute_result"
    }
   ],
   "source": [
    "p1 = Point()\n",
    "p1.x = 3\n",
    "p1.y = 4\n",
    "p2 = Point()\n",
    "p2.x = 3\n",
    "p2.y = 4\n",
    "p1 is p2"
   ]
  },
  {
   "cell_type": "markdown",
   "metadata": {},
   "source": [
    "We can assign `p1` to `p2` and the variables are aliases of the same object. This would be shallow equality because only the referces are compared, not the contents."
   ]
  },
  {
   "cell_type": "code",
   "execution_count": 14,
   "metadata": {
    "collapsed": false
   },
   "outputs": [
    {
     "data": {
      "text/plain": [
       "True"
      ]
     },
     "execution_count": 14,
     "metadata": {},
     "output_type": "execute_result"
    }
   ],
   "source": [
    "p2 = p1\n",
    "p1 is p2"
   ]
  },
  {
   "cell_type": "markdown",
   "metadata": {},
   "source": [
    "Deep equality is comparing the contents of the objects."
   ]
  },
  {
   "cell_type": "code",
   "execution_count": 15,
   "metadata": {
    "collapsed": true
   },
   "outputs": [],
   "source": [
    "def samePoint(p1, p2):\n",
    "    return (p1.x == p2.x) and (p1.y == p2.y)"
   ]
  },
  {
   "cell_type": "code",
   "execution_count": 16,
   "metadata": {
    "collapsed": false
   },
   "outputs": [
    {
     "data": {
      "text/plain": [
       "True"
      ]
     },
     "execution_count": 16,
     "metadata": {},
     "output_type": "execute_result"
    }
   ],
   "source": [
    "samePoint(p1, p2)"
   ]
  },
  {
   "cell_type": "markdown",
   "metadata": {},
   "source": [
    "Example below uses a class to represent a rectangle. We can embed an object within another object."
   ]
  },
  {
   "cell_type": "code",
   "execution_count": 2,
   "metadata": {
    "collapsed": true
   },
   "outputs": [],
   "source": [
    "class Rectangle:\n",
    "    pass"
   ]
  },
  {
   "cell_type": "code",
   "execution_count": 18,
   "metadata": {
    "collapsed": true
   },
   "outputs": [],
   "source": [
    "box = Rectangle()\n",
    "box.width = 100.0\n",
    "box.height = 200.0\n",
    "box.corner = Point()\n",
    "box.corner.x = 0.0\n",
    "box.corner.y = 0.0"
   ]
  },
  {
   "cell_type": "markdown",
   "metadata": {},
   "source": [
    "Functions can return instances."
   ]
  },
  {
   "cell_type": "code",
   "execution_count": 22,
   "metadata": {
    "collapsed": true
   },
   "outputs": [],
   "source": [
    "def findCenter(box):\n",
    "    p = Point()\n",
    "    p.x = box.corner.x + box.width/2.0\n",
    "    p.y = box.corner.y - box.height/2.0\n",
    "    return p"
   ]
  },
  {
   "cell_type": "code",
   "execution_count": 23,
   "metadata": {
    "collapsed": false
   },
   "outputs": [
    {
     "name": "stdout",
     "output_type": "stream",
     "text": [
      "(50.0, -100.0)\n"
     ]
    }
   ],
   "source": [
    "center = findCenter(box)\n",
    "printPoint(center)"
   ]
  },
  {
   "cell_type": "markdown",
   "metadata": {},
   "source": [
    "Objects are mutable. Example below changes the size of a rectangle without changing its position."
   ]
  },
  {
   "cell_type": "code",
   "execution_count": 24,
   "metadata": {
    "collapsed": true
   },
   "outputs": [],
   "source": [
    "def growRect(box, dwidth, dheight):\n",
    "    box.width = box.width + dwidth\n",
    "    box.height = box.height + dheight"
   ]
  },
  {
   "cell_type": "markdown",
   "metadata": {},
   "source": [
    "Create a new `Rectangle` named bob and pass it to growRect:"
   ]
  },
  {
   "cell_type": "code",
   "execution_count": 25,
   "metadata": {
    "collapsed": true
   },
   "outputs": [],
   "source": [
    "bob = Rectangle()\n",
    "bob.width = 100.0\n",
    "bob.height = 200.0\n",
    "bob.corner = Point()\n",
    "bob.corner.x = 0.0\n",
    "bob.corner.y = 0.0\n",
    "growRect(bob, 50, 100)"
   ]
  },
  {
   "cell_type": "markdown",
   "metadata": {},
   "source": [
    "Be careful with aliases - they might have unexpected effects in your program. Copying an object is a good alternative. The `copy` module contains a `copy` function."
   ]
  },
  {
   "cell_type": "markdown",
   "metadata": {},
   "source": [
    "In the example below, p1 and p2 are not the same point, but contain the same data."
   ]
  },
  {
   "cell_type": "code",
   "execution_count": null,
   "metadata": {
    "collapsed": true
   },
   "outputs": [],
   "source": [
    "import copy\n",
    "p1 = Point()\n",
    "p1.x = 3\n",
    "p1.y = 4\n",
    "p2 = copy.copy(p1)\n",
    "p1 == p2"
   ]
  },
  {
   "cell_type": "code",
   "execution_count": 27,
   "metadata": {
    "collapsed": false
   },
   "outputs": [
    {
     "data": {
      "text/plain": [
       "True"
      ]
     },
     "execution_count": 27,
     "metadata": {},
     "output_type": "execute_result"
    }
   ],
   "source": [
    "samePoint(p1, p2)"
   ]
  },
  {
   "cell_type": "markdown",
   "metadata": {},
   "source": [
    "Use `deepcopy` to copy the object and any embedded objects."
   ]
  },
  {
   "cell_type": "markdown",
   "metadata": {},
   "source": [
    "`b2 = copy.deepcopy(b1)`"
   ]
  },
  {
   "cell_type": "markdown",
   "metadata": {
    "collapsed": true
   },
   "source": [
    "## Chapter 13: Classes and Functions"
   ]
  },
  {
   "cell_type": "markdown",
   "metadata": {},
   "source": [
    "Another user-defined type could be a class called `Time` that records the time of day:"
   ]
  },
  {
   "cell_type": "code",
   "execution_count": 75,
   "metadata": {
    "collapsed": true
   },
   "outputs": [],
   "source": [
    "class Time:\n",
    "    pass"
   ]
  },
  {
   "cell_type": "code",
   "execution_count": 76,
   "metadata": {
    "collapsed": true
   },
   "outputs": [],
   "source": [
    "time = Time()\n",
    "time.hours = 11\n",
    "time.minutes = 59\n",
    "time.seconds = 30"
   ]
  },
  {
   "cell_type": "markdown",
   "metadata": {},
   "source": [
    "The function below is a rough calculation of the sum of two `Times`. It is a pure function becaue it does not modify any of the objects passed to it as arguments and has no side effects (no user input or values displayed)."
   ]
  },
  {
   "cell_type": "code",
   "execution_count": 30,
   "metadata": {
    "collapsed": true
   },
   "outputs": [],
   "source": [
    "def addTime(t1, t2):\n",
    "    sum = Time()\n",
    "    sum.hours = t1.hours + t2.hours\n",
    "    sum.minutes = t1.minutes + t2.minutes\n",
    "    sum.seconds = t1.seconds + t2.seconds\n",
    "    return sum"
   ]
  },
  {
   "cell_type": "markdown",
   "metadata": {},
   "source": [
    "The function below prints the time:"
   ]
  },
  {
   "cell_type": "code",
   "execution_count": 31,
   "metadata": {
    "collapsed": true
   },
   "outputs": [],
   "source": [
    "def printTime(time):\n",
    "    print str(time.hours) + \":\" + \\\n",
    "          str(time.minutes) + \":\" + \\\n",
    "          str(time.seconds)"
   ]
  },
  {
   "cell_type": "markdown",
   "metadata": {},
   "source": [
    "Below we create two `Time` objects: `currentTime`, which is the current time; and `breadTime`, which is the amount of time it takes to make bread. Then we use `addTime` to figure out when the bread will be done."
   ]
  },
  {
   "cell_type": "code",
   "execution_count": 32,
   "metadata": {
    "collapsed": true
   },
   "outputs": [],
   "source": [
    "currentTime = Time()\n",
    "currentTime.hours = 9\n",
    "currentTime.minutes = 14\n",
    "currentTime.seconds = 30"
   ]
  },
  {
   "cell_type": "code",
   "execution_count": 33,
   "metadata": {
    "collapsed": true
   },
   "outputs": [],
   "source": [
    "breadTime = Time()\n",
    "breadTime.hours = 3\n",
    "breadTime.minutes = 35\n",
    "breadTime.seconds = 0"
   ]
  },
  {
   "cell_type": "code",
   "execution_count": 34,
   "metadata": {
    "collapsed": false
   },
   "outputs": [
    {
     "name": "stdout",
     "output_type": "stream",
     "text": [
      "12:49:30\n"
     ]
    }
   ],
   "source": [
    "doneTime = addTime(currentTime, breadTime)\n",
    "printTime(doneTime)"
   ]
  },
  {
   "cell_type": "markdown",
   "metadata": {},
   "source": [
    "The example above does not account for cases where the number of seconds or minutes adds up to more than sixty. When that happens, we must \"carry\" the extra seconds into the minute column or the extra minutes into the hours column."
   ]
  },
  {
   "cell_type": "code",
   "execution_count": 35,
   "metadata": {
    "collapsed": true
   },
   "outputs": [],
   "source": [
    "def addTime(t1, t2):\n",
    "    sum = Time()\n",
    "    sum.hours = t1.hours + t2.hours\n",
    "    sum.minutes = t1.minutes + t2.minutes\n",
    "    sum.seconds = t1.seconds + t2.seconds\n",
    "    \n",
    "    if sum.seconds >= 60:\n",
    "        sum.seconds = sum.seconds - 60\n",
    "        sum.minutes = sum.minutes + 1\n",
    "        \n",
    "    if sum.minutes >= 60:\n",
    "        sum.minutes = sum.minutes - 60\n",
    "        sum.hours = sum.hours + 1\n",
    "        \n",
    "    return sum"
   ]
  },
  {
   "cell_type": "markdown",
   "metadata": {},
   "source": [
    "The function below adds a given number of seconds to a `Time` object."
   ]
  },
  {
   "cell_type": "code",
   "execution_count": 48,
   "metadata": {
    "collapsed": true
   },
   "outputs": [],
   "source": [
    "def increment(time, seconds):\n",
    "    time.seconds = time.seconds + seconds\n",
    "    \n",
    "    if time.seconds >= 60:\n",
    "        time.seconds = time.seconds - 60\n",
    "        time.minutes = time.minutes +1\n",
    "        \n",
    "    if time.minutes >= 60:\n",
    "        time.minutes = time.minutes - 60\n",
    "        time.hours = time.hours + 1"
   ]
  },
  {
   "cell_type": "markdown",
   "metadata": {},
   "source": [
    "To rewrite the code above in a more concise way, see below. We convert a `Time` object into a single number and take advantage of the fact that the computer knows how to do arithmetic with numbers."
   ]
  },
  {
   "cell_type": "code",
   "execution_count": 37,
   "metadata": {
    "collapsed": true
   },
   "outputs": [],
   "source": [
    "def convertToSeconds(t):\n",
    "    minutes = t.hours * 60 + t.minutes\n",
    "    seconds = minutes * 60 + t.seconds\n",
    "    return seconds"
   ]
  },
  {
   "cell_type": "markdown",
   "metadata": {},
   "source": [
    "Now, we must convert from an integer to a Time object:"
   ]
  },
  {
   "cell_type": "code",
   "execution_count": 100,
   "metadata": {
    "collapsed": true
   },
   "outputs": [],
   "source": [
    "def makeTime(seconds):\n",
    "    time = Time()\n",
    "    time.hours = seconds // 3600\n",
    "    time.minutes = (seconds%3600) // 60\n",
    "    time.seconds = seconds%60\n",
    "    return time"
   ]
  },
  {
   "cell_type": "markdown",
   "metadata": {},
   "source": [
    "Now, rewrite `addTime`:"
   ]
  },
  {
   "cell_type": "code",
   "execution_count": 39,
   "metadata": {
    "collapsed": true
   },
   "outputs": [],
   "source": [
    "def addTime(t1, t2):\n",
    "    seconds = convertToSeconds(t1) + convertToSeconds(t2)\n",
    "    return makeTime(seconds)"
   ]
  },
  {
   "cell_type": "markdown",
   "metadata": {},
   "source": [
    "An algorithm is a general solution for a class of problems, as opposed to a specific solution to a single problem."
   ]
  },
  {
   "cell_type": "markdown",
   "metadata": {},
   "source": [
    "## Chapter 14: Classes and Methods"
   ]
  },
  {
   "cell_type": "markdown",
   "metadata": {},
   "source": [
    "Python is an object-oriented programming language. Some of its characteristics include:\n",
    "   * Programs are made up of object definitions and function definitions, and most of the computation is expressed in terms of operations on objects.\n",
    "   * Each object definition corresponds to some object or concept in the real world, and the functions that operate on that object correspond to the ways real-world objects interact."
   ]
  },
  {
   "cell_type": "markdown",
   "metadata": {},
   "source": [
    "Each method is associated with a class and is intended to be invoked on instances of that class. Methods are similar to functions, with two differences:\n",
    "   * Methods are defined inside a class definition in order to make the relationship between the class and the method explicit.\n",
    "   * The syntax for invoking a method is different from the syntax for calling a function."
   ]
  },
  {
   "cell_type": "markdown",
   "metadata": {},
   "source": [
    "In Ch 13 we defined a class name `Time` and wrote a function named `printTime`. To call the function, we passed a `Time` object as an argument. To make `printTime` a method, we move the function definition inside the class definition:"
   ]
  },
  {
   "cell_type": "code",
   "execution_count": 69,
   "metadata": {
    "collapsed": true
   },
   "outputs": [],
   "source": [
    "class Time:\n",
    "    def printTime(time):\n",
    "        print str(time.hours) + \":\" + \\\n",
    "              str(time.minutes) + \":\" + \\\n",
    "              str(time.seconds)"
   ]
  },
  {
   "cell_type": "markdown",
   "metadata": {},
   "source": [
    "To invoke `printTime` use dot notation:"
   ]
  },
  {
   "cell_type": "code",
   "execution_count": 70,
   "metadata": {
    "collapsed": false
   },
   "outputs": [
    {
     "name": "stdout",
     "output_type": "stream",
     "text": [
      "9:14:30\n"
     ]
    }
   ],
   "source": [
    "currentTime = Time()\n",
    "currentTime.hours = 9\n",
    "currentTime.minutes = 14\n",
    "currentTime.seconds = 30\n",
    "\n",
    "currentTime.printTime()"
   ]
  },
  {
   "cell_type": "markdown",
   "metadata": {},
   "source": [
    "Now, let's convert `increment` from Ch 13 to a method."
   ]
  },
  {
   "cell_type": "code",
   "execution_count": 71,
   "metadata": {
    "collapsed": false
   },
   "outputs": [],
   "source": [
    "class Time:\n",
    "    def printTime(time):\n",
    "        print str(time.hours) + \":\" + \\\n",
    "              str(time.minutes) + \":\" + \\\n",
    "              str(time.seconds)\n",
    "            \n",
    "    def increment(self, seconds):\n",
    "        self.seconds = seconds + self.seconds\n",
    "        \n",
    "        while self.seconds >= 60:\n",
    "            self.seconds = self.seconds - 60\n",
    "            self.minutes = self.minutes + 1\n",
    "            \n",
    "        while self.minutes >= 60:\n",
    "            self.minutes = self.minutes - 60\n",
    "            self.hours = self.hours + 1"
   ]
  },
  {
   "cell_type": "code",
   "execution_count": 74,
   "metadata": {
    "collapsed": false
   },
   "outputs": [
    {
     "name": "stdout",
     "output_type": "stream",
     "text": [
      "9:22:50\n"
     ]
    }
   ],
   "source": [
    "currentTime = Time()\n",
    "currentTime.hours = 9\n",
    "currentTime.minutes = 14\n",
    "currentTime.seconds = 30\n",
    "\n",
    "currentTime.increment(500)\n",
    "currentTime.printTime()"
   ]
  },
  {
   "cell_type": "markdown",
   "metadata": {},
   "source": [
    "The `after` function below operates on two `Time` objects. We can only convert one of the parameters to self; the other stays the same:"
   ]
  },
  {
   "cell_type": "code",
   "execution_count": 98,
   "metadata": {
    "collapsed": false
   },
   "outputs": [],
   "source": [
    "class Time:\n",
    "    \n",
    "    def after(self, time2):\n",
    "        if self.hours > time2.hours:\n",
    "            return 1\n",
    "        if self.hours < time2.hours:\n",
    "            return 0\n",
    "        \n",
    "        if self.minute > time2.minute:\n",
    "            return 1\n",
    "        if self.minute < time2.minute:\n",
    "            return 0\n",
    "        \n",
    "        if self.second > time2.second:\n",
    "            return 1\n",
    "        return 0\n",
    "    \n",
    "    def addTime(t1, t2):\n",
    "        seconds = convertToSeconds(t1) + convertToSeconds(t2)\n",
    "        return makeTime(seconds)\n",
    "\n",
    "    def makeTime(seconds):\n",
    "        time = Time()\n",
    "        time.hours = seconds // 3600\n",
    "        time.minutes = (seconds%3600) // 60\n",
    "        time.seconds = seconds%60\n",
    "        return time\n",
    "    \n",
    "    def convertToSeconds(t):\n",
    "        minutes = t.hours * 60 + t.minutes\n",
    "        seconds = minutes * 60 + t.seconds\n",
    "        return seconds"
   ]
  },
  {
   "cell_type": "code",
   "execution_count": 99,
   "metadata": {
    "collapsed": false
   },
   "outputs": [
    {
     "name": "stdout",
     "output_type": "stream",
     "text": [
      "The bread is not done yet.\n"
     ]
    }
   ],
   "source": [
    "currentTime = Time()\n",
    "currentTime.hours = 9\n",
    "currentTime.minutes = 14\n",
    "currentTime.seconds = 30\n",
    "\n",
    "breadTime = Time()\n",
    "breadTime.hours = 3\n",
    "breadTime.minutes = 35\n",
    "breadTime.seconds = 0\n",
    "\n",
    "\n",
    "doneTime = addTime(currentTime, breadTime)\n",
    "\n",
    "if doneTime.after(currentTime):\n",
    "    print \"The bread is not done yet.\""
   ]
  },
  {
   "cell_type": "markdown",
   "metadata": {},
   "source": [
    "We can write functions with optional argument lists. Let's rewrite this example from Ch 7."
   ]
  },
  {
   "cell_type": "markdown",
   "metadata": {},
   "source": [
    "`# original code from Ch 7\n",
    "def find(str, ch):\n",
    "    index = 0\n",
    "    while index < len(str):\n",
    "        if str[index] == ch:\n",
    "            return index\n",
    "        index += 1\n",
    "    return -1`\n",
    "\n"
   ]
  },
  {
   "cell_type": "markdown",
   "metadata": {},
   "source": [
    "The third parameter, `start`, is optional because a default value, 0, is provided."
   ]
  },
  {
   "cell_type": "code",
   "execution_count": 59,
   "metadata": {
    "collapsed": true
   },
   "outputs": [],
   "source": [
    "# rewritten code\n",
    "\n",
    "def find(str, ch, start=0):\n",
    "    index = start\n",
    "    while index < len(str):\n",
    "        if str[index] == ch:\n",
    "            return index\n",
    "        index += 1\n",
    "    return -1"
   ]
  },
  {
   "cell_type": "code",
   "execution_count": 60,
   "metadata": {
    "collapsed": false
   },
   "outputs": [
    {
     "data": {
      "text/plain": [
       "1"
      ]
     },
     "execution_count": 60,
     "metadata": {},
     "output_type": "execute_result"
    }
   ],
   "source": [
    "find(\"apple\", \"p\")"
   ]
  },
  {
   "cell_type": "markdown",
   "metadata": {},
   "source": [
    "If we include a third parameter, it overrides the default:"
   ]
  },
  {
   "cell_type": "code",
   "execution_count": 61,
   "metadata": {
    "collapsed": false
   },
   "outputs": [
    {
     "data": {
      "text/plain": [
       "2"
      ]
     },
     "execution_count": 61,
     "metadata": {},
     "output_type": "execute_result"
    }
   ],
   "source": [
    "find(\"apple\", \"p\", 2)"
   ]
  },
  {
   "cell_type": "code",
   "execution_count": 62,
   "metadata": {
    "collapsed": false
   },
   "outputs": [
    {
     "data": {
      "text/plain": [
       "-1"
      ]
     },
     "execution_count": 62,
     "metadata": {},
     "output_type": "execute_result"
    }
   ],
   "source": [
    "find(\"apple\", \"p\", 3)"
   ]
  },
  {
   "cell_type": "markdown",
   "metadata": {},
   "source": [
    "An initialization method is a special method that is invoked when an object is created. The name of this method is `__init__`. "
   ]
  },
  {
   "cell_type": "code",
   "execution_count": 88,
   "metadata": {
    "collapsed": true
   },
   "outputs": [],
   "source": [
    "class Time:\n",
    "    def __init__(self, hours=0, minutes=0, seconds=0):\n",
    "        self.hours = hours\n",
    "        self.minutes = minutes\n",
    "        self.seconds = seconds\n",
    "        \n",
    "    def printTime(time):\n",
    "        print str(time.hours) + \":\" + \\\n",
    "              str(time.minutes) + \":\" + \\\n",
    "              str(time.seconds)"
   ]
  },
  {
   "cell_type": "code",
   "execution_count": 89,
   "metadata": {
    "collapsed": false
   },
   "outputs": [
    {
     "name": "stdout",
     "output_type": "stream",
     "text": [
      "9:14:30\n"
     ]
    }
   ],
   "source": [
    "currentTime = Time(9, 14, 30)\n",
    "currentTime.printTime()\n"
   ]
  },
  {
   "cell_type": "markdown",
   "metadata": {},
   "source": [
    "Since the arguments are optional, we can omit them or only provide a few."
   ]
  },
  {
   "cell_type": "code",
   "execution_count": 91,
   "metadata": {
    "collapsed": false
   },
   "outputs": [
    {
     "name": "stdout",
     "output_type": "stream",
     "text": [
      "0:0:0\n"
     ]
    }
   ],
   "source": [
    "currentTime = Time()\n",
    "currentTime.printTime()"
   ]
  },
  {
   "cell_type": "code",
   "execution_count": 92,
   "metadata": {
    "collapsed": false
   },
   "outputs": [
    {
     "name": "stdout",
     "output_type": "stream",
     "text": [
      "9:0:0\n"
     ]
    }
   ],
   "source": [
    "currentTime = Time(9)\n",
    "currentTime.printTime()"
   ]
  },
  {
   "cell_type": "code",
   "execution_count": 93,
   "metadata": {
    "collapsed": false
   },
   "outputs": [
    {
     "name": "stdout",
     "output_type": "stream",
     "text": [
      "9:0:30\n"
     ]
    }
   ],
   "source": [
    "currentTime = Time(seconds = 30, hours = 9)\n",
    "currentTime.printTime()"
   ]
  },
  {
   "cell_type": "markdown",
   "metadata": {},
   "source": [
    "Below is the `Point` class from Ch 12 rewritten in a more object-oriented way. The initialization method takes x and y as optional parameters, with the default as 0. The `__str__` method returns a string of a `Point` object. When a class provides a `__str__` method, it overrides the Python built-in str function. Most classes start with an `__init__` and `__str___` methods."
   ]
  },
  {
   "cell_type": "code",
   "execution_count": 133,
   "metadata": {
    "collapsed": false
   },
   "outputs": [],
   "source": [
    "class Point:\n",
    "    def __init__(self, x=0, y=0):\n",
    "        self.x = x\n",
    "        self.y = y\n",
    "    \n",
    "    def __str__(self):\n",
    "        return '(' + str(self.x) + ', ' + str(self.y) + ')'"
   ]
  },
  {
   "cell_type": "code",
   "execution_count": 103,
   "metadata": {
    "collapsed": false
   },
   "outputs": [
    {
     "data": {
      "text/plain": [
       "'(3, 4)'"
      ]
     },
     "execution_count": 103,
     "metadata": {},
     "output_type": "execute_result"
    }
   ],
   "source": [
    "p = Point(3,4)\n",
    "str(p)"
   ]
  },
  {
   "cell_type": "code",
   "execution_count": 104,
   "metadata": {
    "collapsed": false
   },
   "outputs": [
    {
     "name": "stdout",
     "output_type": "stream",
     "text": [
      "(3, 4)\n"
     ]
    }
   ],
   "source": [
    "print p"
   ]
  },
  {
   "cell_type": "markdown",
   "metadata": {},
   "source": [
    "Operator overloading is changing the definition of the built-in operators when they are applied to user-defined types. For example, to override the `+` operator, create a method named `__add__`."
   ]
  },
  {
   "cell_type": "code",
   "execution_count": 106,
   "metadata": {
    "collapsed": false
   },
   "outputs": [],
   "source": [
    "class Point:\n",
    "     def __init__(self, x=0, y=0):\n",
    "        self.x = x\n",
    "        self.y = y\n",
    "    \n",
    "     def __str__(self):\n",
    "        return '(' + str(self.x) + ', ' + str(self.y) + ')'\n",
    "    \n",
    "     def __add__(self, other):\n",
    "        return Point(self.x + other.x, self.y + other.y)"
   ]
  },
  {
   "cell_type": "code",
   "execution_count": 108,
   "metadata": {
    "collapsed": false
   },
   "outputs": [
    {
     "name": "stdout",
     "output_type": "stream",
     "text": [
      "(8, 11)\n"
     ]
    }
   ],
   "source": [
    "p1 = Point(3,4)\n",
    "p2 = Point(5,7)\n",
    "# line below is equivalent to p1.__add__(p2)\n",
    "p3 = p1 + p2\n",
    "print p3"
   ]
  },
  {
   "cell_type": "markdown",
   "metadata": {},
   "source": [
    "If the left operand of * is a `Point`, Python invokes `__mul__` , which assumes the other operand is also a `Point`. It computes dot product of the two points."
   ]
  },
  {
   "cell_type": "code",
   "execution_count": 112,
   "metadata": {
    "collapsed": true
   },
   "outputs": [],
   "source": [
    "class Point:\n",
    "     def __init__(self, x=0, y=0):\n",
    "        self.x = x\n",
    "        self.y = y\n",
    "    \n",
    "     def __str__(self):\n",
    "        return '(' + str(self.x) + ', ' + str(self.y) + ')'\n",
    "    \n",
    "     def __add__(self, other):\n",
    "        return Point(self.x + other.x, self.y + other.y)\n",
    "\n",
    "     def __mul__(self, other):\n",
    "        return self.x * other.x + self.y * other.y"
   ]
  },
  {
   "cell_type": "markdown",
   "metadata": {},
   "source": [
    "If the left operand of * is a primitive type and the right operand is a `Point`, Python invokes `__rmul__`, which performs scalar multiplication."
   ]
  },
  {
   "cell_type": "code",
   "execution_count": 116,
   "metadata": {
    "collapsed": true
   },
   "outputs": [],
   "source": [
    "class Point:\n",
    "     def __init__(self, x=0, y=0):\n",
    "        self.x = x\n",
    "        self.y = y\n",
    "    \n",
    "     def __str__(self):\n",
    "        return '(' + str(self.x) + ', ' + str(self.y) + ')'\n",
    "    \n",
    "     def __add__(self, other):\n",
    "        return Point(self.x + other.x, self.y + other.y)\n",
    "\n",
    "     def __mul__(self, other):\n",
    "        return self.x * other.x + self.y * other.y\n",
    "\n",
    "     def __rmul__(self, other):\n",
    "        return Point(other * self.x, other * self.y)"
   ]
  },
  {
   "cell_type": "code",
   "execution_count": 117,
   "metadata": {
    "collapsed": false
   },
   "outputs": [
    {
     "name": "stdout",
     "output_type": "stream",
     "text": [
      "43\n"
     ]
    }
   ],
   "source": [
    "p1 = Point(3, 4)\n",
    "p2 = Point(5, 7)\n",
    "print p1 * p2"
   ]
  },
  {
   "cell_type": "code",
   "execution_count": 118,
   "metadata": {
    "collapsed": false
   },
   "outputs": [
    {
     "name": "stdout",
     "output_type": "stream",
     "text": [
      "(10, 14)\n"
     ]
    }
   ],
   "source": [
    "print 2 * p2"
   ]
  },
  {
   "cell_type": "code",
   "execution_count": 120,
   "metadata": {
    "collapsed": false
   },
   "outputs": [
    {
     "ename": "AttributeError",
     "evalue": "'int' object has no attribute 'x'",
     "output_type": "error",
     "traceback": [
      "\u001b[0;31m---------------------------------------------------------------------------\u001b[0m",
      "\u001b[0;31mAttributeError\u001b[0m                            Traceback (most recent call last)",
      "\u001b[0;32m<ipython-input-120-20f4cbae3385>\u001b[0m in \u001b[0;36m<module>\u001b[0;34m()\u001b[0m\n\u001b[1;32m      1\u001b[0m \u001b[0;31m#doesn't work because the first operand is a Point, so it goes into the __mul__ method, but the second operand is an int\u001b[0m\u001b[0;34m\u001b[0m\u001b[0;34m\u001b[0m\u001b[0m\n\u001b[0;32m----> 2\u001b[0;31m \u001b[0;32mprint\u001b[0m \u001b[0mp2\u001b[0m \u001b[0;34m*\u001b[0m \u001b[0;36m2\u001b[0m\u001b[0;34m\u001b[0m\u001b[0m\n\u001b[0m",
      "\u001b[0;32m<ipython-input-116-a6f62b55a63d>\u001b[0m in \u001b[0;36m__mul__\u001b[0;34m(self, other)\u001b[0m\n\u001b[1;32m     11\u001b[0m \u001b[0;34m\u001b[0m\u001b[0m\n\u001b[1;32m     12\u001b[0m      \u001b[0;32mdef\u001b[0m \u001b[0m__mul__\u001b[0m\u001b[0;34m(\u001b[0m\u001b[0mself\u001b[0m\u001b[0;34m,\u001b[0m \u001b[0mother\u001b[0m\u001b[0;34m)\u001b[0m\u001b[0;34m:\u001b[0m\u001b[0;34m\u001b[0m\u001b[0m\n\u001b[0;32m---> 13\u001b[0;31m         \u001b[0;32mreturn\u001b[0m \u001b[0mself\u001b[0m\u001b[0;34m.\u001b[0m\u001b[0mx\u001b[0m \u001b[0;34m*\u001b[0m \u001b[0mother\u001b[0m\u001b[0;34m.\u001b[0m\u001b[0mx\u001b[0m \u001b[0;34m+\u001b[0m \u001b[0mself\u001b[0m\u001b[0;34m.\u001b[0m\u001b[0my\u001b[0m \u001b[0;34m*\u001b[0m \u001b[0mother\u001b[0m\u001b[0;34m.\u001b[0m\u001b[0my\u001b[0m\u001b[0;34m\u001b[0m\u001b[0m\n\u001b[0m\u001b[1;32m     14\u001b[0m \u001b[0;34m\u001b[0m\u001b[0m\n\u001b[1;32m     15\u001b[0m      \u001b[0;32mdef\u001b[0m \u001b[0m__rmul__\u001b[0m\u001b[0;34m(\u001b[0m\u001b[0mself\u001b[0m\u001b[0;34m,\u001b[0m \u001b[0mother\u001b[0m\u001b[0;34m)\u001b[0m\u001b[0;34m:\u001b[0m\u001b[0;34m\u001b[0m\u001b[0m\n",
      "\u001b[0;31mAttributeError\u001b[0m: 'int' object has no attribute 'x'"
     ]
    }
   ],
   "source": [
    "#doesn't work because the first operand is a Point, so it goes into the __mul__ method, but the second operand is an int\n",
    "print p2 * 2"
   ]
  },
  {
   "cell_type": "markdown",
   "metadata": {},
   "source": [
    "Most of the methods so far only work for a specific type. However, if many types support the same set of operations, you can write functions that work on any of those types. These are called polymorphic functions. See below."
   ]
  },
  {
   "cell_type": "code",
   "execution_count": 121,
   "metadata": {
    "collapsed": true
   },
   "outputs": [],
   "source": [
    "def multadd (x, y, z):\n",
    "    return x * y + z"
   ]
  },
  {
   "cell_type": "code",
   "execution_count": 122,
   "metadata": {
    "collapsed": false
   },
   "outputs": [
    {
     "data": {
      "text/plain": [
       "7"
      ]
     },
     "execution_count": 122,
     "metadata": {},
     "output_type": "execute_result"
    }
   ],
   "source": [
    "multadd (3, 2, 1)"
   ]
  },
  {
   "cell_type": "code",
   "execution_count": 123,
   "metadata": {
    "collapsed": true
   },
   "outputs": [],
   "source": [
    "class Point:\n",
    "     def __init__(self, x=0, y=0):\n",
    "        self.x = x\n",
    "        self.y = y\n",
    "    \n",
    "     def __str__(self):\n",
    "        return '(' + str(self.x) + ', ' + str(self.y) + ')'\n",
    "    \n",
    "     def __add__(self, other):\n",
    "        return Point(self.x + other.x, self.y + other.y)\n",
    "\n",
    "     def __mul__(self, other):\n",
    "        return self.x * other.x + self.y * other.y\n",
    "\n",
    "     def __rmul__(self, other):\n",
    "        return Point(other * self.x, other * self.y)\n",
    "    \n",
    "     def multadd (x, y, z):\n",
    "        return x * y + z"
   ]
  },
  {
   "cell_type": "code",
   "execution_count": 124,
   "metadata": {
    "collapsed": false
   },
   "outputs": [
    {
     "name": "stdout",
     "output_type": "stream",
     "text": [
      "(11, 15)\n"
     ]
    }
   ],
   "source": [
    "p1 = Point(3, 4)\n",
    "p2 = Point(5, 7)\n",
    "print multadd (2, p1, p2)"
   ]
  },
  {
   "cell_type": "code",
   "execution_count": 125,
   "metadata": {
    "collapsed": false
   },
   "outputs": [
    {
     "name": "stdout",
     "output_type": "stream",
     "text": [
      "44\n"
     ]
    }
   ],
   "source": [
    "print multadd (p1, p2, 1)"
   ]
  },
  {
   "cell_type": "code",
   "execution_count": 126,
   "metadata": {
    "collapsed": true
   },
   "outputs": [],
   "source": [
    "def frontAndBack(front):\n",
    "    import copy\n",
    "    back = copy.copy(front)\n",
    "    back.reverse()\n",
    "    print str(front) + str(back)"
   ]
  },
  {
   "cell_type": "code",
   "execution_count": 127,
   "metadata": {
    "collapsed": false
   },
   "outputs": [
    {
     "name": "stdout",
     "output_type": "stream",
     "text": [
      "[1, 2, 3, 4][4, 3, 2, 1]\n"
     ]
    }
   ],
   "source": [
    "mylist = [1, 2, 3, 4]\n",
    "frontAndBack(mylist)"
   ]
  },
  {
   "cell_type": "markdown",
   "metadata": {},
   "source": [
    "If all of the operations inside the function can be applied to the type, the function can be applied to the type."
   ]
  },
  {
   "cell_type": "code",
   "execution_count": 5,
   "metadata": {
    "collapsed": false
   },
   "outputs": [],
   "source": [
    "class Point:\n",
    "     def __init__(self, x=0, y=0):\n",
    "        self.x = x\n",
    "        self.y = y\n",
    "    \n",
    "     def __str__(self):\n",
    "        return '(' + str(self.x) + ', ' + str(self.y) + ')'\n",
    "    \n",
    "     def __add__(self, other):\n",
    "        return Point(self.x + other.x, self.y + other.y)\n",
    "\n",
    "     def __mul__(self, other):\n",
    "        return self.x * other.x + self.y * other.y\n",
    "\n",
    "     def __rmul__(self, other):\n",
    "        return Point(other * self.x, other * self.y)\n",
    "    \n",
    "     def multadd(x, y, z):\n",
    "        return x * y + z\n",
    "    \n",
    "     def frontAndBack(front):\n",
    "        import copy\n",
    "        back = copy.copy(front)\n",
    "        back.reverse()\n",
    "        print str(front) + str(back)\n",
    "        \n",
    "     def reverse(self):\n",
    "        self.x, self.y = self.y, self.x\n",
    "    "
   ]
  },
  {
   "cell_type": "code",
   "execution_count": 132,
   "metadata": {
    "collapsed": false
   },
   "outputs": [
    {
     "name": "stdout",
     "output_type": "stream",
     "text": [
      "(3, 4)(4, 3)\n"
     ]
    }
   ],
   "source": [
    "p = Point(3, 4)\n",
    "frontAndBack(p)"
   ]
  },
  {
   "cell_type": "markdown",
   "metadata": {},
   "source": [
    "## Chapter 15: Sets of objects"
   ]
  },
  {
   "cell_type": "markdown",
   "metadata": {},
   "source": [
    "`Card` objects \n",
    " * 52 cards in a deck, each card belongs to a suit and rank\n",
    " * Suits: Spades, Hearts, Diamonds, Clubs (descending order in bridge)\n",
    " * Ranks: Ace, 2, 3, 4, 5, 6, 7, 8, 9, 10, Jack, Queen, King"
   ]
  },
  {
   "cell_type": "markdown",
   "metadata": {},
   "source": [
    "We could use strings for suits and ranks, but a better alternative is to use integers to encode the ranks and suits. Encode is to define a mapping between a sequence of numbers and the items I want to represent."
   ]
  },
  {
   "cell_type": "markdown",
   "metadata": {},
   "source": [
    "Suit|Mapping\n",
    "-|-\n",
    "Spades | 3\n",
    "Hearts | 2\n",
    "Diamonds | 1\n",
    "Clubs | 0"
   ]
  },
  {
   "cell_type": "markdown",
   "metadata": {},
   "source": [
    "The mapping for ranks is similiar, each numberical rank maps to the corresponding integer, and for the rest:"
   ]
  },
  {
   "cell_type": "markdown",
   "metadata": {},
   "source": [
    "Rank|Mapping\n",
    "-|-\n",
    "Jack | 11\n",
    "Queen | 12\n",
    "King | 13"
   ]
  },
  {
   "cell_type": "code",
   "execution_count": 137,
   "metadata": {
    "collapsed": true
   },
   "outputs": [],
   "source": [
    "class Card:\n",
    "    def __init__(self, suit=0, rank=2):\n",
    "        self.suit = suit\n",
    "        self.rank = rank"
   ]
  },
  {
   "cell_type": "markdown",
   "metadata": {},
   "source": [
    "To create a card:"
   ]
  },
  {
   "cell_type": "code",
   "execution_count": 138,
   "metadata": {
    "collapsed": true
   },
   "outputs": [],
   "source": [
    "threeOfClubs = Card(3, 1)"
   ]
  },
  {
   "cell_type": "markdown",
   "metadata": {},
   "source": [
    "To print `Card` objects in a way that is easy to read, we map the integer codes onto words with lists of strings. We assign these lists to class attributes at the top of the class definition:"
   ]
  },
  {
   "cell_type": "code",
   "execution_count": 149,
   "metadata": {
    "collapsed": false
   },
   "outputs": [],
   "source": [
    "#narf is the first element in rankList to act as a placeholder for the zero-th element, which should never be used\n",
    "\n",
    "class Card:\n",
    "    \n",
    "    suitList = [\"Clubs\", \"Diamonds\", \"Hearts\", \"Spades\"]\n",
    "    rankList = [\"narf\", \"Ace\", \"2\", \"3\", \"4\", \"5\", \"6\", \"7\", \"8\", \"9\", \"10\", \"Jack\", \"Queen\", \"King\"]\n",
    "    \n",
    "    def __init__(self, suit=0, rank=2):\n",
    "        self.suit = suit\n",
    "        self.rank = rank\n",
    "    \n",
    "    def __str__(self):\n",
    "        return (self.rankList[self.rank] + \" of \" + self.suitList[self.suit])"
   ]
  },
  {
   "cell_type": "code",
   "execution_count": 150,
   "metadata": {
    "collapsed": false
   },
   "outputs": [
    {
     "name": "stdout",
     "output_type": "stream",
     "text": [
      "Jack of Diamonds\n"
     ]
    }
   ],
   "source": [
    "card1 = Card(1, 11)\n",
    "print card1"
   ]
  },
  {
   "cell_type": "code",
   "execution_count": 151,
   "metadata": {
    "collapsed": false
   },
   "outputs": [
    {
     "name": "stdout",
     "output_type": "stream",
     "text": [
      "3 of Diamonds\n"
     ]
    }
   ],
   "source": [
    "card2 = Card(1, 3)\n",
    "print card2"
   ]
  },
  {
   "cell_type": "code",
   "execution_count": 152,
   "metadata": {
    "collapsed": false
   },
   "outputs": [
    {
     "name": "stdout",
     "output_type": "stream",
     "text": [
      "Diamonds\n"
     ]
    }
   ],
   "source": [
    "print card2.suitList[1]"
   ]
  },
  {
   "cell_type": "markdown",
   "metadata": {},
   "source": [
    "We can modify a class attribute, but it will affect every instance of the class:"
   ]
  },
  {
   "cell_type": "code",
   "execution_count": 153,
   "metadata": {
    "collapsed": false
   },
   "outputs": [
    {
     "name": "stdout",
     "output_type": "stream",
     "text": [
      "Jack of Swirly Whales\n"
     ]
    }
   ],
   "source": [
    "card1.suitList[1] = \"Swirly Whales\"\n",
    "print card1"
   ]
  },
  {
   "cell_type": "code",
   "execution_count": 154,
   "metadata": {
    "collapsed": false
   },
   "outputs": [
    {
     "name": "stdout",
     "output_type": "stream",
     "text": [
      "3 of Swirly Whales\n"
     ]
    }
   ],
   "source": [
    "print card2"
   ]
  },
  {
   "cell_type": "markdown",
   "metadata": {},
   "source": [
    "To change it back:"
   ]
  },
  {
   "cell_type": "code",
   "execution_count": 155,
   "metadata": {
    "collapsed": true
   },
   "outputs": [],
   "source": [
    "card1.suitList[1] = \"Diamonds\""
   ]
  },
  {
   "cell_type": "code",
   "execution_count": 156,
   "metadata": {
    "collapsed": false
   },
   "outputs": [
    {
     "name": "stdout",
     "output_type": "stream",
     "text": [
      "Jack of Diamonds\n"
     ]
    }
   ],
   "source": [
    "print card1"
   ]
  },
  {
   "cell_type": "code",
   "execution_count": 157,
   "metadata": {
    "collapsed": false
   },
   "outputs": [
    {
     "name": "stdout",
     "output_type": "stream",
     "text": [
      "3 of Diamonds\n"
     ]
    }
   ],
   "source": [
    "print card2"
   ]
  },
  {
   "cell_type": "markdown",
   "metadata": {},
   "source": [
    "For user-defined types, we can override the built-in comparision operators by creating a `__cmp__` method. By convention, `__cmp__` has two parameters, `self` and `other`, and returns 1 if the first object is greater, -1 if the second object is greater, and 0 if they are equal."
   ]
  },
  {
   "cell_type": "markdown",
   "metadata": {},
   "source": [
    "Some types are logically ordered and some are not (fruits, can't compare apples and oranges). Cards are partially ordered. We must decide which is more important, suits or ranks. There is no right answer, but for our example we will say that a suit is more important."
   ]
  },
  {
   "cell_type": "code",
   "execution_count": 225,
   "metadata": {
    "collapsed": true
   },
   "outputs": [],
   "source": [
    "class Card:\n",
    "    \n",
    "    suitList = [\"Clubs\", \"Diamonds\", \"Hearts\", \"Spades\"]\n",
    "    rankList = [\"narf\", \"Ace\", \"2\", \"3\", \"4\", \"5\", \"6\", \"7\", \"8\", \"9\", \"10\", \"Jack\", \"Queen\", \"King\"]\n",
    "    \n",
    "    def __init__(self, suit=0, rank=2):\n",
    "        self.suit = suit\n",
    "        self.rank = rank\n",
    "    \n",
    "    def __str__(self):\n",
    "        return (self.rankList[self.rank] + \" of \" + self.suitList[self.suit])\n",
    "\n",
    "\n",
    "    def __cmp__(self, other):\n",
    "        #check the suits\n",
    "        if self.suit > other.suit: return 1\n",
    "        if self.suit < other.suit: return -1\n",
    "        # suits are the same, now check ranks\n",
    "        if self.rank > other.rank: return 1\n",
    "        if self.rank < other.rank: return -1\n",
    "        #ranks are the same, it's a tie\n",
    "        return 0"
   ]
  },
  {
   "cell_type": "markdown",
   "metadata": {},
   "source": [
    "Now, define a class to represent a `Deck`. A deck is made up of cards, so each `Deck` object will contain a list of elements. The outer loop iterates four times, and the inner loop iterates thirteen times. The total number of times the body is executed is fifty-two. Each iteration creates a new instance of `Card` with the current suit and rank, and appends that card to the `cards` list. The `append` method works on lists but not tuples."
   ]
  },
  {
   "cell_type": "code",
   "execution_count": 164,
   "metadata": {
    "collapsed": true
   },
   "outputs": [],
   "source": [
    "class Deck:\n",
    "    def __init__(self):\n",
    "        self.cards = []\n",
    "        #enumerates the suits from 0 to 3\n",
    "        for suit in range(4):\n",
    "            #enumerates the ranks from 1 to 13\n",
    "            for rank in range(1,14):\n",
    "                self.cards.append(Card(suit,rank))"
   ]
  },
  {
   "cell_type": "markdown",
   "metadata": {},
   "source": [
    "To print a `Deck`, we traverse the list and print each `Card`."
   ]
  },
  {
   "cell_type": "code",
   "execution_count": 165,
   "metadata": {
    "collapsed": true
   },
   "outputs": [],
   "source": [
    "class Deck:\n",
    "    def __init__(self):\n",
    "        self.cards = []\n",
    "        #enumerates the suits from 0 to 3\n",
    "        for suit in range(4):\n",
    "            #enumerates the ranks from 1 to 13\n",
    "            for rank in range(1,14):\n",
    "                self.cards.append(Card(suit,rank))\n",
    "                \n",
    "    def printDeck(self):\n",
    "        for card in self.deck:\n",
    "            print card"
   ]
  },
  {
   "cell_type": "markdown",
   "metadata": {},
   "source": [
    "As an alternative to printDeck, we can write a `__str__` method for the `Deck` class. Instead of traversing self.cards and assigning each card to a variable, we are using `i`. We are using string manipulation to indent each card by one more space than the last by the expresion `\" \"*i` . Instead of using the print command, we use the `str` function. Passing an object as an argument to `str` is equivalent to invoking the `__str__` method on the object. The variable `s` is used as an accumulator. Initially, `s` is the empty string. Each time through the loop, a new string is generated and concatenated with the old value of `s` to the new value. When the loop ends, `s` contains the complete string representation of the `Deck`."
   ]
  },
  {
   "cell_type": "code",
   "execution_count": 226,
   "metadata": {
    "collapsed": true
   },
   "outputs": [],
   "source": [
    "class Deck:\n",
    "    def __init__(self):\n",
    "        self.cards = []\n",
    "        #enumerates the suits from 0 to 3\n",
    "        for suit in range(4):\n",
    "            #enumerates the ranks from 1 to 13\n",
    "            for rank in range(1,14):\n",
    "                self.cards.append(Card(suit, rank))\n",
    "                \n",
    "    def __str__(self):\n",
    "        s = \"\"\n",
    "        #i is a loop variable and an index into the list of cards\n",
    "        for i in range(len(self.cards)):\n",
    "            #\" \"*i yiels a number of spaces equal to the current value of i\n",
    "            s = s + \" \"*i + str(self.cards[i]) + \"\\n\"\n",
    "        return s"
   ]
  },
  {
   "cell_type": "code",
   "execution_count": 176,
   "metadata": {
    "collapsed": false
   },
   "outputs": [
    {
     "name": "stdout",
     "output_type": "stream",
     "text": [
      "Ace of Clubs\n",
      " 2 of Clubs\n",
      "  3 of Clubs\n",
      "   4 of Clubs\n",
      "    5 of Clubs\n",
      "     6 of Clubs\n",
      "      7 of Clubs\n",
      "       8 of Clubs\n",
      "        9 of Clubs\n",
      "         10 of Clubs\n",
      "          Jack of Clubs\n",
      "           Queen of Clubs\n",
      "            King of Clubs\n",
      "             Ace of Diamonds\n",
      "              2 of Diamonds\n",
      "               3 of Diamonds\n",
      "                4 of Diamonds\n",
      "                 5 of Diamonds\n",
      "                  6 of Diamonds\n",
      "                   7 of Diamonds\n",
      "                    8 of Diamonds\n",
      "                     9 of Diamonds\n",
      "                      10 of Diamonds\n",
      "                       Jack of Diamonds\n",
      "                        Queen of Diamonds\n",
      "                         King of Diamonds\n",
      "                          Ace of Hearts\n",
      "                           2 of Hearts\n",
      "                            3 of Hearts\n",
      "                             4 of Hearts\n",
      "                              5 of Hearts\n",
      "                               6 of Hearts\n",
      "                                7 of Hearts\n",
      "                                 8 of Hearts\n",
      "                                  9 of Hearts\n",
      "                                   10 of Hearts\n",
      "                                    Jack of Hearts\n",
      "                                     Queen of Hearts\n",
      "                                      King of Hearts\n",
      "                                       Ace of Spades\n",
      "                                        2 of Spades\n",
      "                                         3 of Spades\n",
      "                                          4 of Spades\n",
      "                                           5 of Spades\n",
      "                                            6 of Spades\n",
      "                                             7 of Spades\n",
      "                                              8 of Spades\n",
      "                                               9 of Spades\n",
      "                                                10 of Spades\n",
      "                                                 Jack of Spades\n",
      "                                                  Queen of Spades\n",
      "                                                   King of Spades\n",
      "\n"
     ]
    }
   ],
   "source": [
    "deck = Deck()\n",
    "print deck"
   ]
  },
  {
   "cell_type": "markdown",
   "metadata": {},
   "source": [
    "In a perfectly shuffled deck, any card is equally likely to appear anywhere in the deck, and any location in the deck is equally likely to contain any card."
   ]
  },
  {
   "cell_type": "markdown",
   "metadata": {},
   "source": [
    "We will use `randrange` function form the random module to shuffle the deck. "
   ]
  },
  {
   "cell_type": "code",
   "execution_count": 181,
   "metadata": {
    "collapsed": true
   },
   "outputs": [],
   "source": [
    "class Deck:\n",
    "    def __init__(self):\n",
    "        self.cards = []\n",
    "        #enumerates the suits from 0 to 3\n",
    "        for suit in range(4):\n",
    "            #enumerates the ranks from 1 to 13\n",
    "            for rank in range(1,14):\n",
    "                self.cards.append(Card(suit, rank))\n",
    "                \n",
    "    def __str__(self):\n",
    "        s = \"\"\n",
    "        #i is a loop variable and an index into the list of cards\n",
    "        for i in range(len(self.cards)):\n",
    "            #\" \"*i yiels a number of spaces equal to the current value of i\n",
    "            s = s + \" \"*i + str(self.cards[i]) + \"\\n\"\n",
    "        return s \n",
    "\n",
    "    \n",
    "    def shuffle(self):\n",
    "        import random\n",
    "        #instead of assuming 52 cards, get the length of the list and store it in nCards\n",
    "        nCards = len(self.cards)\n",
    "        #for each card in deck, choose a random card among the cards that haven't been shuffled yet and swap \n",
    "        for i in range(nCards):\n",
    "            j = random.randrange(i, nCards)\n",
    "            self.cards[i], self.cards[j] = self.cards[j], self.cards[i]"
   ]
  },
  {
   "cell_type": "markdown",
   "metadata": {},
   "source": [
    "`removeCard` takes a card as an argument, removes it, and returns `True` if the card was in the deck and `False` otherwise."
   ]
  },
  {
   "cell_type": "code",
   "execution_count": 183,
   "metadata": {
    "collapsed": true
   },
   "outputs": [],
   "source": [
    "class Deck:\n",
    "    def __init__(self):\n",
    "        self.cards = []\n",
    "        #enumerates the suits from 0 to 3\n",
    "        for suit in range(4):\n",
    "            #enumerates the ranks from 1 to 13\n",
    "            for rank in range(1,14):\n",
    "                self.cards.append(Card(suit, rank))   \n",
    "\n",
    "    def __str__(self):\n",
    "        s = \"\"\n",
    "        #i is a loop variable and an index into the list of cards\n",
    "        for i in range(len(self.cards)):\n",
    "            #\" \"*i yiels a number of spaces equal to the current value of i\n",
    "            s = s + \" \"*i + str(self.cards[i]) + \"\\n\"\n",
    "        return s     \n",
    "                \n",
    "    def shuffle(self):\n",
    "        import random\n",
    "        #instead of assuming 52 cards, get the length of the list and store it in nCards\n",
    "        nCards = len(self.cards)\n",
    "        #for each card in deck, choose a random card among the cards that haven't been shuffled yet and swap \n",
    "        for i in range(nCards):\n",
    "            j = random.randrange(i, nCards)\n",
    "            self.cards[i], self.cards[j] = self.cards[j], self.cards[i]\n",
    "            \n",
    "    def removeCard(self, card):\n",
    "        #in operator returns true if the first operand is in the second, which must be a list or tuple\n",
    "        if card in self.cards:\n",
    "            self.cards.remove(card)\n",
    "            return True\n",
    "        else:\n",
    "            return False"
   ]
  },
  {
   "cell_type": "markdown",
   "metadata": {},
   "source": [
    "To deal cards, we must remove and return the bottom card. The list method `pop` does that:"
   ]
  },
  {
   "cell_type": "code",
   "execution_count": 186,
   "metadata": {
    "collapsed": true
   },
   "outputs": [],
   "source": [
    "class Deck:\n",
    "    def __init__(self):\n",
    "        self.cards = []\n",
    "        #enumerates the suits from 0 to 3\n",
    "        for suit in range(4):\n",
    "            #enumerates the ranks from 1 to 13\n",
    "            for rank in range(1,14):\n",
    "                self.cards.append(Card(suit, rank))   \n",
    "\n",
    "    def __str__(self):\n",
    "        s = \"\"\n",
    "        #i is a loop variable and an index into the list of cards\n",
    "        for i in range(len(self.cards)):\n",
    "            #\" \"*i yields a number of spaces equal to the current value of i\n",
    "            s = s + \" \"*i + str(self.cards[i]) + \"\\n\"\n",
    "        return s     \n",
    "                \n",
    "    def shuffle(self):\n",
    "        import random\n",
    "        #instead of assuming 52 cards, get the length of the list and store it in nCards\n",
    "        nCards = len(self.cards)\n",
    "        #for each card in deck, choose a random card among the cards that haven't been shuffled yet and swap \n",
    "        for i in range(nCards):\n",
    "            j = random.randrange(i, nCards)\n",
    "            self.cards[i], self.cards[j] = self.cards[j], self.cards[i]\n",
    "            \n",
    "    def removeCard(self, card):\n",
    "        #in operator returns true if the first operand is in the second, which must be a list or tuple\n",
    "        if card in self.cards:\n",
    "            self.cards.remove(card)\n",
    "            return True\n",
    "        else:\n",
    "            return False\n",
    "        \n",
    "    def popCard(self):\n",
    "        return self.cards.pop()"
   ]
  },
  {
   "cell_type": "markdown",
   "metadata": {},
   "source": [
    "The last operation we want is the boolean function `isEmpty`, which will return true if the deck contains no cards."
   ]
  },
  {
   "cell_type": "code",
   "execution_count": 227,
   "metadata": {
    "collapsed": false
   },
   "outputs": [],
   "source": [
    "class Deck:\n",
    "    def __init__(self):\n",
    "        self.cards = []\n",
    "        #enumerates the suits from 0 to 3\n",
    "        for suit in range(4):\n",
    "            #enumerates the ranks from 1 to 13\n",
    "            for rank in range(1,14):\n",
    "                self.cards.append(Card(suit, rank))   \n",
    "\n",
    "    def __str__(self):\n",
    "        s = \"\"\n",
    "        #i is a loop variable and an index into the list of cards\n",
    "        for i in range(len(self.cards)):\n",
    "            #\" \"*i yields a number of spaces equal to the current value of i\n",
    "            s = s + \" \"*i + str(self.cards[i]) + \"\\n\"\n",
    "        return s     \n",
    "                \n",
    "    def shuffle(self):\n",
    "        import random\n",
    "        #instead of assuming 52 cards, get the length of the list and store it in nCards\n",
    "        nCards = len(self.cards)\n",
    "        #for each card in deck, choose a random card among the cards that haven't been shuffled yet and swap \n",
    "        for i in range(nCards):\n",
    "            j = random.randrange(i, nCards)\n",
    "            self.cards[i], self.cards[j] = self.cards[j], self.cards[i]\n",
    "            \n",
    "    def removeCard(self, card):\n",
    "        #in operator returns true if the first operand is in the second, which must be a list or tuple\n",
    "        if card in self.cards:\n",
    "            self.cards.remove(card)\n",
    "            return True\n",
    "        else:\n",
    "            return False\n",
    "        \n",
    "    def popCard(self):\n",
    "        return self.cards.pop()\n",
    "\n",
    "    def isEmpty(self):\n",
    "        return (len(self.cards) == 0)"
   ]
  },
  {
   "cell_type": "markdown",
   "metadata": {},
   "source": [
    "## Chapter 16: Inheritance"
   ]
  },
  {
   "cell_type": "markdown",
   "metadata": {},
   "source": [
    "Inheritance is the ability to define a new class that is a modified version of an existing class. The existing class is sometimes called the parent class. The new class may be called the child class. Inheritance facilitates code reuse, since you can customize the behavior of the parent classes without having to modify them. The downside to inheritance is that it can make programs difficult to read."
   ]
  },
  {
   "cell_type": "markdown",
   "metadata": {},
   "source": [
    "We will demonstrate inheritance in a program that plays the card game Old Maid."
   ]
  },
  {
   "cell_type": "markdown",
   "metadata": {},
   "source": [
    "First we will create a hand of cards. `Hand` will be a subclass of `Deck`, so it will have all the methods of `Deck`, and new methods can be added. The name of the parent class appears in parentheses."
   ]
  },
  {
   "cell_type": "code",
   "execution_count": 189,
   "metadata": {
    "collapsed": true
   },
   "outputs": [],
   "source": [
    "class Hand(Deck):\n",
    "    \n",
    "    #string name identifies this hand, probably the name of the player that holds it, it's an optional parameter\n",
    "    def __init__(self, name=\"\"):\n",
    "        #cards is the list of cards in the hand, initialized to the empty list\n",
    "        self.cards = []\n",
    "        self.name = name"
   ]
  },
  {
   "cell_type": "markdown",
   "metadata": {},
   "source": [
    "For almost any card game, we must be able to add and remove cards from the deck. We can use `removeCards` from `Deck`, but must add a mew method called `addCard`:"
   ]
  },
  {
   "cell_type": "code",
   "execution_count": 228,
   "metadata": {
    "collapsed": true
   },
   "outputs": [],
   "source": [
    "class Hand(Deck):\n",
    "    \n",
    "    #string name identifies this hand, probably the name of the player that holds it, it's an optional parameter\n",
    "    def __init__(self, name=\"\"):\n",
    "        #cards is the list of cards in the hand, initialized to the empty list\n",
    "        self.cards = []\n",
    "        self.name = name\n",
    "        \n",
    "    def addCard(self, card):\n",
    "        #adds the new card to the end of the list of cards\n",
    "        self.cards.append(card)"
   ]
  },
  {
   "cell_type": "markdown",
   "metadata": {},
   "source": [
    "We need to be able to deal cards from the `Deck` into hands. Since this operates on a single deck and possibly several hands, it is more natural to put it in `Deck`."
   ]
  },
  {
   "cell_type": "code",
   "execution_count": 229,
   "metadata": {
    "collapsed": true
   },
   "outputs": [],
   "source": [
    "class Deck:\n",
    "    def __init__(self):\n",
    "        self.cards = []\n",
    "        #enumerates the suits from 0 to 3\n",
    "        for suit in range(4):\n",
    "            #enumerates the ranks from 1 to 13\n",
    "            for rank in range(1,14):\n",
    "                self.cards.append(Card(suit, rank))   \n",
    "\n",
    "    def __str__(self):\n",
    "        s = \"\"\n",
    "        # i is a loop variable and an index into the list of cards\n",
    "        for i in range(len(self.cards)):\n",
    "            # \" \"*i yiels a number of spaces equal to the current value of i\n",
    "            s = s + \" \"*i + str(self.cards[i]) + \"\\n\"\n",
    "        return s     \n",
    "                \n",
    "    def shuffle(self):\n",
    "        import random\n",
    "        # instead of assuming 52 cards, get the length of the list and store it in nCards\n",
    "        nCards = len(self.cards)\n",
    "        # for each card in deck, choose a random card among the cards that haven't been shuffled yet and swap \n",
    "        for i in range(nCards):\n",
    "            j = random.randrange(i, nCards)\n",
    "            self.cards[i], self.cards[j] = self.cards[j], self.cards[i]\n",
    "            \n",
    "    def removeCard(self, card):\n",
    "        # in operator returns true if the first operand is in the second, which must be a list or tuple\n",
    "        if card in self.cards:\n",
    "            self.cards.remove(card)\n",
    "            return True\n",
    "        else:\n",
    "            return False\n",
    "        \n",
    "    def popCard(self):\n",
    "        return self.cards.pop()\n",
    "\n",
    "    def isEmpty(self):\n",
    "        return (len(self.cards) == 0)\n",
    "    \n",
    "    def deal(self, hands, nCards=999):\n",
    "        nHands = len(hands)\n",
    "        for i in range(nCards):\n",
    "            if self.isEmpty(): break      # break if out of cards\n",
    "            card = self.popCard()         # takes the top card\n",
    "            hand = hands[i % nHands]      # whose turn is next?\n",
    "            hand.addCard(card)            # add the card to the hand"
   ]
  },
  {
   "cell_type": "markdown",
   "metadata": {},
   "source": [
    "To print the contents of a hand, we can use `printDeck` and `__str__` methods from `Deck`."
   ]
  },
  {
   "cell_type": "code",
   "execution_count": 198,
   "metadata": {
    "collapsed": false
   },
   "outputs": [
    {
     "name": "stdout",
     "output_type": "stream",
     "text": [
      "3 of Diamonds\n",
      " 9 of Diamonds\n",
      "  Queen of Spades\n",
      "   8 of Spades\n",
      "    9 of Clubs\n",
      "\n"
     ]
    }
   ],
   "source": [
    "deck = Deck()\n",
    "deck.shuffle()\n",
    "hand = Hand(\"frank\")\n",
    "deck.deal([hand], 5)\n",
    "print hand"
   ]
  },
  {
   "cell_type": "markdown",
   "metadata": {},
   "source": [
    "It's convenient to inherit existing methods, but there is additional information in a `Hand` object we need when printed. We can provide a `__str__` method in the `Hand` class that overrides the one in the `Deck` class. Hand objects can do everything `Deck` objects can, so it is legal to send a `Hand` to a `Deck` method."
   ]
  },
  {
   "cell_type": "code",
   "execution_count": 230,
   "metadata": {
    "collapsed": true
   },
   "outputs": [],
   "source": [
    "class Hand(Deck):\n",
    "    \n",
    "    #string name identifies this hand, probably the name of the player that holds it, it's an optional parameter\n",
    "    def __init__(self, name=\"\"):\n",
    "        #cards is the list of cards in the hand, initialized to the empty list\n",
    "        self.cards = []\n",
    "        self.name = name\n",
    "        \n",
    "    def addCard(self, card):\n",
    "        #adds the new card to the end of the list of cards\n",
    "        self.cards.append(card)\n",
    "        \n",
    "    def __str__(self):\n",
    "        s = \"Hand \" + self.name\n",
    "        if self.isEmpty():\n",
    "            return s + \" is empty\\n\"\n",
    "        else:\n",
    "            return s + \" contains\\n\" + Deck.__str__(self)"
   ]
  },
  {
   "cell_type": "markdown",
   "metadata": {},
   "source": [
    "`CardGame` class takes care of basic chores common to all game, such as creating and shuffling a deck. This is the first time the `__init__` method performs computations, beyond initializing attributes."
   ]
  },
  {
   "cell_type": "code",
   "execution_count": 231,
   "metadata": {
    "collapsed": true
   },
   "outputs": [],
   "source": [
    "class CardGame:\n",
    "    def __init__(self):\n",
    "        self.deck = Deck()\n",
    "        self.deck.shuffle()"
   ]
  },
  {
   "cell_type": "markdown",
   "metadata": {},
   "source": [
    "The object of Old Maid is to get rid of cards in your hand by matching cards by rank and color. The Queen of Clubs is removed from the deck so the Queen of Spades has no match. The fifty-one remaining cards are dealt to players in a round robin. Then, all players match and discard as many cards as possible."
   ]
  },
  {
   "cell_type": "markdown",
   "metadata": {},
   "source": [
    "Now, play begins. Each player picks a card without looking from their neighbor to the left. If the new card matches with a card in the player's hand, the pair is removed. Otherwise, it is added to the hand. Eventually, all possible matches are made, leaving only the Queen of Spades with the loser."
   ]
  },
  {
   "cell_type": "markdown",
   "metadata": {},
   "source": [
    "A hand for Old Maid requires abilities beyond `Hand` so we will make a new class, `OldMaidHand`. This will include a new method, `removeMatches`."
   ]
  },
  {
   "cell_type": "code",
   "execution_count": 232,
   "metadata": {
    "collapsed": true
   },
   "outputs": [],
   "source": [
    "class OldMaidHand(Hand):\n",
    "    def removeMatches(self):\n",
    "        count = 0\n",
    "        # makes copy of the list of cards, so we can traverse the copy while removing cards from the original\n",
    "        originalCards = self.cards[:]\n",
    "        # for each card in hand, we figure out what the matching card is and look for it\n",
    "        for card in originalCards:\n",
    "            match = Card(3 - card.suit, card.rank)\n",
    "            # if match card is also in the hand, both cards are removed\n",
    "            if match in self.cards:\n",
    "                self.cards.remove(card)\n",
    "                self.cards.remove(match)\n",
    "                print \"Hand %s: %s matches %s\" % (self.name, card, match)\n",
    "                count = count + 1\n",
    "        return count"
   ]
  },
  {
   "cell_type": "code",
   "execution_count": 208,
   "metadata": {
    "collapsed": false
   },
   "outputs": [
    {
     "name": "stdout",
     "output_type": "stream",
     "text": [
      "Hand frank contains\n",
      "3 of Clubs\n",
      " 9 of Spades\n",
      "  5 of Clubs\n",
      "   5 of Hearts\n",
      "    King of Diamonds\n",
      "     8 of Diamonds\n",
      "      4 of Diamonds\n",
      "       6 of Diamonds\n",
      "        9 of Clubs\n",
      "         King of Spades\n",
      "          3 of Hearts\n",
      "           4 of Hearts\n",
      "            6 of Spades\n",
      "\n"
     ]
    }
   ],
   "source": [
    "game = CardGame()\n",
    "hand = OldMaidHand(\"frank\")\n",
    "game.deck.deal([hand], 13)\n",
    "print hand"
   ]
  },
  {
   "cell_type": "code",
   "execution_count": 209,
   "metadata": {
    "collapsed": false
   },
   "outputs": [
    {
     "name": "stdout",
     "output_type": "stream",
     "text": [
      "Hand frank: 9 of Spades matches 9 of Clubs\n",
      "Hand frank: 4 of Diamonds matches 4 of Hearts\n"
     ]
    },
    {
     "data": {
      "text/plain": [
       "2"
      ]
     },
     "execution_count": 209,
     "metadata": {},
     "output_type": "execute_result"
    }
   ],
   "source": [
    "hand.removeMatches()"
   ]
  },
  {
   "cell_type": "code",
   "execution_count": 210,
   "metadata": {
    "collapsed": false
   },
   "outputs": [
    {
     "name": "stdout",
     "output_type": "stream",
     "text": [
      "Hand frank contains\n",
      "3 of Clubs\n",
      " 5 of Clubs\n",
      "  5 of Hearts\n",
      "   King of Diamonds\n",
      "    8 of Diamonds\n",
      "     6 of Diamonds\n",
      "      King of Spades\n",
      "       3 of Hearts\n",
      "        6 of Spades\n",
      "\n"
     ]
    }
   ],
   "source": [
    "print hand"
   ]
  },
  {
   "cell_type": "markdown",
   "metadata": {},
   "source": [
    "Notice that `OldMaidHand` does not have an `__init__` method. This is because it is inherited from `Hand`."
   ]
  },
  {
   "cell_type": "markdown",
   "metadata": {},
   "source": [
    "Now, to set up the game `OldMaidGame` is a subclass of `CardGame` with a new method called play that takes a list of players as an argument."
   ]
  },
  {
   "cell_type": "code",
   "execution_count": 233,
   "metadata": {
    "collapsed": false
   },
   "outputs": [],
   "source": [
    "class OldMaidGame(CardGame):\n",
    "    def play(self, names):\n",
    "        # remove Queen of Clubs\n",
    "        self.deck.removeCard(Card(0,12))\n",
    "        \n",
    "        # make a hand for each player\n",
    "        self.hands = []\n",
    "        for name in names:\n",
    "            self.hands.append(OldMaidHand(name))\n",
    "            \n",
    "        # deal the cards\n",
    "        self.deck.deal(self.hands)\n",
    "        print \"--------- Cards have been dealt\"\n",
    "        self.printHands()\n",
    "        \n",
    "        # remove initial matches\n",
    "        matches = self.removeAllMatches()\n",
    "        print \"--------- Matches discarded, play begins\"\n",
    "        self.printHands()\n",
    "        \n",
    "        # play until all 50 cards are matched\n",
    "        turn = 0\n",
    "        numHands = len(self.hands)\n",
    "        while matches < 25:\n",
    "            matches = matches + self.playOneTurn(turn)\n",
    "            turn = (turn + 1) % numHands\n",
    "        \n",
    "        print \"--------- Game is Over\"\n",
    "        self.printHands()\n",
    "        \n",
    "    # traverses the list of hands and invokes removeMatches on each   \n",
    "    def removeAllMatches(self):\n",
    "        count = 0\n",
    "        for hand in self.hands:\n",
    "            count = count + hand.removeMatches()\n",
    "        return count\n",
    "    \n",
    "    # traverses self.hands and prints each hand\n",
    "    def printHands(self): \n",
    "        for hand in self.hands:\n",
    "            print hand\n",
    "    \n",
    "    # takes an argument that indicates whose turn it is and returns the number of matches made during this time\n",
    "    def playOneTurn(self, i):\n",
    "        # if the hand is empty, that player is out of the game so he/she does nothing and returns 0\n",
    "        if self.hands[i].isEmpty():\n",
    "            return 0\n",
    "        # find the first player on the left that has cards\n",
    "        neighbor = self.findNeighbor(i)\n",
    "        # take one card from the neighbor and check for matches and shuffle so the next players cards are random\n",
    "        pickedCard = self.hands[neighbor].popCard()\n",
    "        self.hands[i].addCard(pickedCard)\n",
    "        print \"Hand\", self.hands[i].name, \"picked\", pickedCard\n",
    "        count = self.hands[i].removeMatches()\n",
    "        self.hands[i].shuffle()\n",
    "        return count\n",
    "    \n",
    "    # this method starts with the player to the immediate left and continues until it finds a player with cards\n",
    "    def findNeighbor(self, i):\n",
    "        numHands = len(self.hands)\n",
    "        for next in range(1, numHands):\n",
    "            neighbor = (i + next) % numHands\n",
    "            if not self.hands[neighbor].isEmpty():\n",
    "                return neighbor\n",
    "        "
   ]
  },
  {
   "cell_type": "code",
   "execution_count": 238,
   "metadata": {
    "collapsed": false
   },
   "outputs": [
    {
     "name": "stdout",
     "output_type": "stream",
     "text": [
      "--------- Cards have been dealt\n",
      "Hand Allen contains\n",
      "7 of Diamonds\n",
      " 8 of Clubs\n",
      "  9 of Hearts\n",
      "   9 of Clubs\n",
      "    King of Clubs\n",
      "     Ace of Hearts\n",
      "      2 of Hearts\n",
      "       4 of Hearts\n",
      "        Jack of Diamonds\n",
      "         4 of Spades\n",
      "          3 of Spades\n",
      "           Jack of Clubs\n",
      "            8 of Hearts\n",
      "             7 of Spades\n",
      "              5 of Diamonds\n",
      "               3 of Diamonds\n",
      "                7 of Clubs\n",
      "\n",
      "Hand Jeff contains\n",
      "King of Spades\n",
      " 2 of Diamonds\n",
      "  Ace of Spades\n",
      "   3 of Hearts\n",
      "    7 of Hearts\n",
      "     King of Diamonds\n",
      "      10 of Spades\n",
      "       5 of Spades\n",
      "        6 of Diamonds\n",
      "         Queen of Diamonds\n",
      "          10 of Hearts\n",
      "           Jack of Hearts\n",
      "            5 of Clubs\n",
      "             Queen of Spades\n",
      "              6 of Spades\n",
      "               8 of Spades\n",
      "                3 of Clubs\n",
      "\n",
      "Hand Chris contains\n",
      "2 of Spades\n",
      " Jack of Spades\n",
      "  4 of Diamonds\n",
      "   6 of Hearts\n",
      "    8 of Diamonds\n",
      "     6 of Clubs\n",
      "      Ace of Clubs\n",
      "       9 of Spades\n",
      "        2 of Clubs\n",
      "         King of Hearts\n",
      "          Ace of Diamonds\n",
      "           Queen of Hearts\n",
      "            9 of Diamonds\n",
      "             5 of Hearts\n",
      "              10 of Diamonds\n",
      "               4 of Clubs\n",
      "                10 of Clubs\n",
      "\n",
      "Hand Allen: 7 of Spades matches 7 of Clubs\n",
      "Hand Jeff: 5 of Spades matches 5 of Clubs\n",
      "Hand Chris: 2 of Spades matches 2 of Clubs\n",
      "--------- Matches discarded, play begins\n",
      "Hand Allen contains\n",
      "7 of Diamonds\n",
      " 8 of Clubs\n",
      "  9 of Hearts\n",
      "   9 of Clubs\n",
      "    King of Clubs\n",
      "     Ace of Hearts\n",
      "      2 of Hearts\n",
      "       4 of Hearts\n",
      "        Jack of Diamonds\n",
      "         4 of Spades\n",
      "          3 of Spades\n",
      "           Jack of Clubs\n",
      "            8 of Hearts\n",
      "             5 of Diamonds\n",
      "              3 of Diamonds\n",
      "\n",
      "Hand Jeff contains\n",
      "King of Spades\n",
      " 2 of Diamonds\n",
      "  Ace of Spades\n",
      "   3 of Hearts\n",
      "    7 of Hearts\n",
      "     King of Diamonds\n",
      "      10 of Spades\n",
      "       6 of Diamonds\n",
      "        Queen of Diamonds\n",
      "         10 of Hearts\n",
      "          Jack of Hearts\n",
      "           Queen of Spades\n",
      "            6 of Spades\n",
      "             8 of Spades\n",
      "              3 of Clubs\n",
      "\n",
      "Hand Chris contains\n",
      "Jack of Spades\n",
      " 4 of Diamonds\n",
      "  6 of Hearts\n",
      "   8 of Diamonds\n",
      "    6 of Clubs\n",
      "     Ace of Clubs\n",
      "      9 of Spades\n",
      "       King of Hearts\n",
      "        Ace of Diamonds\n",
      "         Queen of Hearts\n",
      "          9 of Diamonds\n",
      "           5 of Hearts\n",
      "            10 of Diamonds\n",
      "             4 of Clubs\n",
      "              10 of Clubs\n",
      "\n",
      "Hand Allen picked 3 of Clubs\n",
      "Hand Allen: 3 of Spades matches 3 of Clubs\n",
      "Hand Jeff picked 10 of Clubs\n",
      "Hand Jeff: 10 of Spades matches 10 of Clubs\n",
      "Hand Chris picked 5 of Diamonds\n",
      "Hand Chris: 5 of Hearts matches 5 of Diamonds\n",
      "Hand Allen picked 2 of Diamonds\n",
      "Hand Allen: 2 of Hearts matches 2 of Diamonds\n",
      "Hand Jeff picked 4 of Diamonds\n",
      "Hand Chris picked 9 of Clubs\n",
      "Hand Chris: 9 of Spades matches 9 of Clubs\n",
      "Hand Allen picked 6 of Spades\n",
      "Hand Jeff picked 4 of Clubs\n",
      "Hand Chris picked Jack of Diamonds\n",
      "Hand Allen picked 10 of Hearts\n",
      "Hand Jeff picked 8 of Diamonds\n",
      "Hand Chris picked Jack of Clubs\n",
      "Hand Chris: Jack of Spades matches Jack of Clubs\n",
      "Hand Allen picked 7 of Hearts\n",
      "Hand Allen: 7 of Diamonds matches 7 of Hearts\n",
      "Hand Jeff picked 10 of Diamonds\n",
      "Hand Chris picked 6 of Spades\n",
      "Hand Chris: 6 of Clubs matches 6 of Spades\n",
      "Hand Allen picked Queen of Spades\n",
      "Hand Jeff picked Ace of Diamonds\n",
      "Hand Chris picked 10 of Hearts\n",
      "Hand Allen picked 8 of Diamonds\n",
      "Hand Allen: 8 of Hearts matches 8 of Diamonds\n",
      "Hand Jeff picked 10 of Hearts\n",
      "Hand Jeff: 10 of Diamonds matches 10 of Hearts\n",
      "Hand Chris picked Queen of Spades\n",
      "Hand Allen picked 8 of Spades\n",
      "Hand Allen: 8 of Clubs matches 8 of Spades\n",
      "Hand Jeff picked Queen of Spades\n",
      "Hand Chris picked King of Clubs\n",
      "Hand Allen picked King of Spades\n",
      "Hand Jeff picked King of Clubs\n",
      "Hand Chris picked 9 of Hearts\n",
      "Hand Chris: 9 of Diamonds matches 9 of Hearts\n",
      "Hand Allen picked 6 of Diamonds\n",
      "Hand Jeff picked Queen of Hearts\n",
      "Hand Jeff: Queen of Diamonds matches Queen of Hearts\n",
      "Hand Chris picked 4 of Hearts\n",
      "Hand Allen picked King of Clubs\n",
      "Hand Allen: King of Spades matches King of Clubs\n",
      "Hand Jeff picked 4 of Hearts\n",
      "Hand Jeff: 4 of Diamonds matches 4 of Hearts\n",
      "Hand Chris picked 6 of Diamonds\n",
      "Hand Chris: 6 of Hearts matches 6 of Diamonds\n",
      "Hand Allen picked 4 of Clubs\n",
      "Hand Allen: 4 of Spades matches 4 of Clubs\n",
      "Hand Jeff picked Jack of Diamonds\n",
      "Hand Jeff: Jack of Hearts matches Jack of Diamonds\n",
      "Hand Chris picked Ace of Hearts\n",
      "Hand Allen picked Ace of Diamonds\n",
      "Hand Jeff picked Ace of Hearts\n",
      "Hand Chris picked Ace of Diamonds\n",
      "Hand Allen picked Ace of Spades\n",
      "Hand Jeff picked Ace of Diamonds\n",
      "Hand Jeff: Ace of Hearts matches Ace of Diamonds\n",
      "Hand Chris picked 3 of Diamonds\n",
      "Hand Allen picked 3 of Hearts\n",
      "Hand Jeff picked King of Hearts\n",
      "Hand Jeff: King of Diamonds matches King of Hearts\n",
      "Hand Chris picked 3 of Hearts\n",
      "Hand Chris: 3 of Diamonds matches 3 of Hearts\n",
      "Hand Allen picked Queen of Spades\n",
      "Hand Chris picked Queen of Spades\n",
      "Hand Allen picked Ace of Clubs\n",
      "Hand Allen: Ace of Spades matches Ace of Clubs\n",
      "--------- Game is Over\n",
      "Hand Allen is empty\n",
      "\n",
      "Hand Jeff is empty\n",
      "\n",
      "Hand Chris contains\n",
      "Queen of Spades\n",
      "\n"
     ]
    }
   ],
   "source": [
    "game = OldMaidGame()\n",
    "game.play([\"Allen\", \"Jeff\", \"Chris\"])"
   ]
  },
  {
   "cell_type": "markdown",
   "metadata": {},
   "source": [
    "So Chris loses the game."
   ]
  },
  {
   "cell_type": "markdown",
   "metadata": {},
   "source": [
    "## Chapter 17: Linked Lists\n"
   ]
  },
  {
   "cell_type": "markdown",
   "metadata": {},
   "source": [
    "Linked lists are made up of nodes, where each node contains a reference to the next node in the list. In addition, each node contains a unit of data called the cargo. Linked lists are considered recursive data structures because they have recursive definition."
   ]
  },
  {
   "cell_type": "markdown",
   "metadata": {},
   "source": [
    "A linked list is either:\n",
    "\n",
    " * the empty list, represented by `None`, or\n",
    " * a node that contains a cargo object and a reference to a linked list"
   ]
  },
  {
   "cell_type": "markdown",
   "metadata": {},
   "source": [
    "As usual when writing a new class, we'll start with the `__init__` and `__str__` methods."
   ]
  },
  {
   "cell_type": "code",
   "execution_count": 1,
   "metadata": {
    "collapsed": true
   },
   "outputs": [],
   "source": [
    "class Node:\n",
    "    def __init__(self, cargo=None, next=None):\n",
    "        self.cargo = cargo\n",
    "        self.next = next\n",
    "        \n",
    "    def __str__(self):\n",
    "        return str(self.cargo)"
   ]
  },
  {
   "cell_type": "markdown",
   "metadata": {},
   "source": [
    "To test, let's create a `Node` and print it."
   ]
  },
  {
   "cell_type": "code",
   "execution_count": 2,
   "metadata": {
    "collapsed": false
   },
   "outputs": [
    {
     "name": "stdout",
     "output_type": "stream",
     "text": [
      "test\n"
     ]
    }
   ],
   "source": [
    "node = Node(\"test\")\n",
    "print node"
   ]
  },
  {
   "cell_type": "markdown",
   "metadata": {},
   "source": [
    "Let's add more nodes:"
   ]
  },
  {
   "cell_type": "code",
   "execution_count": 3,
   "metadata": {
    "collapsed": true
   },
   "outputs": [],
   "source": [
    "node1 = Node(1)\n",
    "node2 = Node(2)\n",
    "node3 = Node(3) "
   ]
  },
  {
   "cell_type": "markdown",
   "metadata": {},
   "source": [
    "Above, we created three nodes, but this is not a list yet because the nodes are not linked. To link the nodes, we have to make the first node refer to the second and the second node refer to the third and so on:"
   ]
  },
  {
   "cell_type": "code",
   "execution_count": 4,
   "metadata": {
    "collapsed": true
   },
   "outputs": [],
   "source": [
    "node1.next = node2\n",
    "node2.next = node3"
   ]
  },
  {
   "cell_type": "markdown",
   "metadata": {},
   "source": [
    "The third node is not referencing another node, which indicates it is the end of the list. The first node of the list serves as a reference to the entire list."
   ]
  },
  {
   "cell_type": "markdown",
   "metadata": {},
   "source": [
    "To pass the list as argument, we only have to pass a reference to the first node."
   ]
  },
  {
   "cell_type": "code",
   "execution_count": 5,
   "metadata": {
    "collapsed": true
   },
   "outputs": [],
   "source": [
    "def printList(node):\n",
    "    while node:\n",
    "        print node,\n",
    "        node = node.next\n",
    "    print"
   ]
  },
  {
   "cell_type": "code",
   "execution_count": 6,
   "metadata": {
    "collapsed": false
   },
   "outputs": [
    {
     "name": "stdout",
     "output_type": "stream",
     "text": [
      "1 2 3\n"
     ]
    }
   ],
   "source": [
    "printList(node1)"
   ]
  },
  {
   "cell_type": "markdown",
   "metadata": {},
   "source": [
    "To print a list backwards:"
   ]
  },
  {
   "cell_type": "code",
   "execution_count": 7,
   "metadata": {
    "collapsed": true
   },
   "outputs": [],
   "source": [
    "def printBackward(list):\n",
    "    if list == None: return\n",
    "    head = list\n",
    "    tail = list.next\n",
    "    printBackward(tail)\n",
    "    # comma after head keeps Python from printing a newline after each node\n",
    "    print head,"
   ]
  },
  {
   "cell_type": "code",
   "execution_count": 255,
   "metadata": {
    "collapsed": false
   },
   "outputs": [
    {
     "name": "stdout",
     "output_type": "stream",
     "text": [
      "3 2 1\n"
     ]
    }
   ],
   "source": [
    "printBackward(node1)"
   ]
  },
  {
   "cell_type": "markdown",
   "metadata": {},
   "source": [
    "`printList` and `printBackwards` are functions and not methods in the `Node` class because we want to use `None` to represent the empty list and it is not legal to invoke a method on `None`."
   ]
  },
  {
   "cell_type": "markdown",
   "metadata": {},
   "source": [
    "Nothing prevents a node from referring back to an earlier code in the list, including itself."
   ]
  },
  {
   "cell_type": "markdown",
   "metadata": {
    "collapsed": true
   },
   "source": [
    "A precondition imposess a constraint on one of the arguments and describes the behavior of the function if the constraint is satisfied. For example, if a list contains no loops, then our print functions above will terminate."
   ]
  },
  {
   "cell_type": "markdown",
   "metadata": {},
   "source": [
    "The fundamental ambiguity theorem describes teh ambiguity that is inherent is a reference to a node: a varialbe that refers to a node might treat the node as a list single object or as the first in a list of nodes."
   ]
  },
  {
   "cell_type": "markdown",
   "metadata": {},
   "source": [
    "Function below removes the second node in the list and returns a reference to the removed node. We use temp variables to make the code more readable."
   ]
  },
  {
   "cell_type": "code",
   "execution_count": 21,
   "metadata": {
    "collapsed": false
   },
   "outputs": [],
   "source": [
    "def removeSecond(list):\n",
    "    if list == None: return\n",
    "    first = list\n",
    "    second = list.next\n",
    "    # check to see if there is a second element\n",
    "    if first.next == None:\n",
    "        print \"Error: There is no second element.\"\n",
    "        return\n",
    "    else:\n",
    "         # make the first node refer to the third\n",
    "        first.next = second.next\n",
    "        # seperate the second node from the list\n",
    "        second.next = None\n",
    "        return second"
   ]
  },
  {
   "cell_type": "code",
   "execution_count": 9,
   "metadata": {
    "collapsed": false
   },
   "outputs": [
    {
     "name": "stdout",
     "output_type": "stream",
     "text": [
      "1 2 3\n"
     ]
    }
   ],
   "source": [
    "printList(node1)"
   ]
  },
  {
   "cell_type": "code",
   "execution_count": 10,
   "metadata": {
    "collapsed": false
   },
   "outputs": [
    {
     "name": "stdout",
     "output_type": "stream",
     "text": [
      "2\n"
     ]
    }
   ],
   "source": [
    "removed = removeSecond(node1)\n",
    "printList(removed)"
   ]
  },
  {
   "cell_type": "code",
   "execution_count": 11,
   "metadata": {
    "collapsed": false
   },
   "outputs": [
    {
     "name": "stdout",
     "output_type": "stream",
     "text": [
      "1 3\n"
     ]
    }
   ],
   "source": [
    "printList(node1)"
   ]
  },
  {
   "cell_type": "code",
   "execution_count": 24,
   "metadata": {
    "collapsed": true
   },
   "outputs": [],
   "source": [
    "test = Node(test)"
   ]
  },
  {
   "cell_type": "code",
   "execution_count": 25,
   "metadata": {
    "collapsed": false
   },
   "outputs": [
    {
     "name": "stdout",
     "output_type": "stream",
     "text": [
      "Error: There is no second element.\n"
     ]
    }
   ],
   "source": [
    "removeTest = removeSecond(test)"
   ]
  },
  {
   "cell_type": "code",
   "execution_count": 26,
   "metadata": {
    "collapsed": true
   },
   "outputs": [],
   "source": [
    "test2 = Node()"
   ]
  },
  {
   "cell_type": "code",
   "execution_count": 27,
   "metadata": {
    "collapsed": false
   },
   "outputs": [
    {
     "name": "stdout",
     "output_type": "stream",
     "text": [
      "Error: There is no second element.\n"
     ]
    }
   ],
   "source": [
    "removeTest2 = removeSecond(test2)"
   ]
  },
  {
   "cell_type": "markdown",
   "metadata": {},
   "source": [
    "Sometimes it is useful to break a list operation into two functions. `printBackwardNicely` is a wrapper, and it uses `printBackward` as a helper."
   ]
  },
  {
   "cell_type": "code",
   "execution_count": 1,
   "metadata": {
    "collapsed": true
   },
   "outputs": [],
   "source": [
    "#revision of printBackward\n",
    "def printBackwardNicely(list):\n",
    "    print \"[\",\n",
    "    printBackward(list)\n",
    "    print \"]\","
   ]
  },
  {
   "cell_type": "code",
   "execution_count": 30,
   "metadata": {
    "collapsed": false
   },
   "outputs": [
    {
     "name": "stdout",
     "output_type": "stream",
     "text": [
      "[ 3 1 ]\n"
     ]
    }
   ],
   "source": [
    "printBackwardNicely(node1)"
   ]
  },
  {
   "cell_type": "markdown",
   "metadata": {},
   "source": [
    "Create a new class called `LinkedList`:"
   ]
  },
  {
   "cell_type": "code",
   "execution_count": 35,
   "metadata": {
    "collapsed": true
   },
   "outputs": [],
   "source": [
    "class LinkedList:\n",
    "    def __init__(self):\n",
    "        self.length = 0\n",
    "        self.head = None\n",
    "        \n",
    "    # let's make printBackwardNicely a method of LinkedList, but change the name to printBackward\n",
    "    def printBackward(list):\n",
    "        print \"[\",\n",
    "        if self.head != None:\n",
    "            printBackward(list)\n",
    "        print \"]\",\n",
    "        \n",
    "    # method to take an item of cargo as an argument and put it at the beginning of the list\n",
    "    def addFirst(self, cargo):\n",
    "        node = Node(cargo)\n",
    "        node.next = self.head\n",
    "        self.head = node\n",
    "        self.length = self.length + 1"
   ]
  },
  {
   "cell_type": "markdown",
   "metadata": {},
   "source": [
    "## Chapter 18: Stacks\n"
   ]
  },
  {
   "cell_type": "markdown",
   "metadata": {},
   "source": [
    "An abstract data type, or ADT, specifies a set of operations and the semantics of the operations, but it does not specify the implementation of the operations, which is what makes it abstract. The code that uses the ADT is called the client code and the code that implements the ADT is called the provider code. This is useful because:\n",
    "\n",
    " * simplifies the task of specifying an algorithm if you can denote the operations you need without having to think at the same time about how the operations are performed\n",
    " * it might be useful to write an algorithm  that can be used with any possible implementations\n",
    " * well-known ADTs are often implemented in standard libraries so they can be written once and used by many programmers\n",
    " * operations on ADTs provide a common high-level language for specifying and talking about algorithms\n",
    " "
   ]
  },
  {
   "cell_type": "markdown",
   "metadata": {},
   "source": [
    "A common ADT is the stack. A stack is a collection - a data structure that contains multiple elements. A stack is sometimes called a LIFO (last in, first out) data strucuture. The interface, or operations that can be performed, on a stack ADT are below:\n",
    " * `__init__`: Initialize a new empty stack\n",
    " * `push`: Add a new item to the stack\n",
    " * `pop`: Remove and return an item from the stack The item that is returned is always the last one that was added\n",
    " * `isEmpty`: Check whether the stack is empty\n",
    " "
   ]
  },
  {
   "cell_type": "markdown",
   "metadata": {},
   "source": [
    "Here is an implementation of the Stack ADT that uses a Python list. A `Stack` object contains an attribute named `items` that is a list of items in the stack."
   ]
  },
  {
   "cell_type": "code",
   "execution_count": 36,
   "metadata": {
    "collapsed": true
   },
   "outputs": [],
   "source": [
    "class Stack:\n",
    "    def __init__(self):\n",
    "        self.items = []\n",
    "        \n",
    "    def push(self, item):\n",
    "        self.items.append(item)\n",
    "    \n",
    "    def pop(self):\n",
    "        return self.items.pop()\n",
    "    \n",
    "    def isEmpty(self):\n",
    "        return (self.items == [])"
   ]
  },
  {
   "cell_type": "markdown",
   "metadata": {},
   "source": [
    "An implementation in which the methods consist of simple invocations of existing methods is called a veneer."
   ]
  },
  {
   "cell_type": "markdown",
   "metadata": {},
   "source": [
    "A stack is a generic data structure, which means we can add any type of item to it."
   ]
  },
  {
   "cell_type": "code",
   "execution_count": 42,
   "metadata": {
    "collapsed": true
   },
   "outputs": [],
   "source": [
    "s = Stack()\n",
    "s.push(54)\n",
    "s.push(45)\n",
    "s.push(\"+\")"
   ]
  },
  {
   "cell_type": "code",
   "execution_count": 43,
   "metadata": {
    "collapsed": false
   },
   "outputs": [
    {
     "name": "stdout",
     "output_type": "stream",
     "text": [
      "+\n",
      "45\n",
      "54\n"
     ]
    }
   ],
   "source": [
    "# use a stack to print the items backward\n",
    "while not s.isEmpty():\n",
    "    print s.pop()"
   ]
  },
  {
   "cell_type": "markdown",
   "metadata": {},
   "source": [
    "Infix format is the typical way to write mathmatical expressions: 1 + 1. Some calculators is postfix, where the operator follows the operands: 1 1 +"
   ]
  },
  {
   "cell_type": "markdown",
   "metadata": {},
   "source": [
    "Postfix is sometimes useful because there is a natural way to evaulate a postfix expression using a stack:\n",
    "\n",
    " * Start at the beginning of the expression, get one term at a time.\n",
    "       - If the term is an operand, push it on the stack\n",
    "       - If the term is an operator, pop two operands off the stack, perform the operation on them, and push the result back on the stack\n",
    "       \n",
    "* When you get to the end of the expression, there should be exactly one operand left on the stack. That is the result"
   ]
  },
  {
   "cell_type": "markdown",
   "metadata": {},
   "source": [
    "Parsing:"
   ]
  },
  {
   "cell_type": "code",
   "execution_count": 44,
   "metadata": {
    "collapsed": false
   },
   "outputs": [
    {
     "data": {
      "text/plain": [
       "['Now', 'is', 'the', 'time']"
      ]
     },
     "execution_count": 44,
     "metadata": {},
     "output_type": "execute_result"
    }
   ],
   "source": [
    "import string\n",
    "string.split(\"Now is the time\", \" \")"
   ]
  },
  {
   "cell_type": "code",
   "execution_count": 50,
   "metadata": {
    "collapsed": false
   },
   "outputs": [
    {
     "data": {
      "text/plain": [
       "['123', '+', '456', '*', '', '/', '']"
      ]
     },
     "execution_count": 50,
     "metadata": {},
     "output_type": "execute_result"
    }
   ],
   "source": [
    "import re\n",
    "re.split(\"([^0-9])\", \"123+456*/\")"
   ]
  },
  {
   "cell_type": "markdown",
   "metadata": {},
   "source": [
    "Use parsing and stack algorithm above to evaluate a postfix expression."
   ]
  },
  {
   "cell_type": "code",
   "execution_count": 53,
   "metadata": {
    "collapsed": true
   },
   "outputs": [],
   "source": [
    "def evalPostfix(expr):\n",
    "    import re\n",
    "    tokenList = re.split(\"([^0-9])\", expr)\n",
    "    stack = Stack()\n",
    "    for token in tokenList:\n",
    "        if token == '' or token == ' ':\n",
    "            continue\n",
    "        if token == '+':\n",
    "            sum = stack.pop() + stack.pop()\n",
    "            stack.push(sum)\n",
    "        elif token == '*':\n",
    "            product = stack.pop() * stack.pop()\n",
    "            stack.push(product)\n",
    "        else:\n",
    "            stack.push(int(token))\n",
    "    return stack.pop() "
   ]
  },
  {
   "cell_type": "code",
   "execution_count": 54,
   "metadata": {
    "collapsed": false
   },
   "outputs": [
    {
     "name": "stdout",
     "output_type": "stream",
     "text": [
      "206\n"
     ]
    }
   ],
   "source": [
    "print evalPostfix (\"56 47 + 2 *\")"
   ]
  },
  {
   "cell_type": "markdown",
   "metadata": {},
   "source": [
    "## Chapter 19: Queues"
   ]
  },
  {
   "cell_type": "markdown",
   "metadata": {},
   "source": [
    "In real life, a queue is a line of customers waiting for service. Generally, the first customer in line is the next customer to be served. Queueing policy determines who goes next. Priority queueing is where each customer is assigned a priority and the customer with the highest priority goes first, regardless of the order of arrival."
   ]
  },
  {
   "cell_type": "markdown",
   "metadata": {},
   "source": [
    "Queue ADT has the following operations:\n",
    "  * `__init__`: Initialize a new empty queue\n",
    "  * `insert`: Add a new item to the queue\n",
    "  * `remove`: Remove and return an item from the queue. The item that is returned is the first one that was added\n",
    "  * `isEmpty`: Check whether the queue is empty"
   ]
  },
  {
   "cell_type": "markdown",
   "metadata": {},
   "source": [
    "A linked queue is made up of linked `Node` objects."
   ]
  },
  {
   "cell_type": "code",
   "execution_count": 60,
   "metadata": {
    "collapsed": false
   },
   "outputs": [],
   "source": [
    "class Queue:\n",
    "    def __init__(self):\n",
    "        self.lenght = 0\n",
    "        self.head = None\n",
    "        \n",
    "    def isEmpty(self):\n",
    "        return (self.lenght == 0)\n",
    "    \n",
    "    # insert new lines at the end of the list\n",
    "    def insert(self, cargo):\n",
    "        node = Node(cargo)\n",
    "        node.next = None \n",
    "        if self.head == None :\n",
    "             # if list is empty the new node goes first\n",
    "            self.head = node\n",
    "        else:\n",
    "            # find the last node in the list\n",
    "            last = self.head\n",
    "            while last.next: last = last.next\n",
    "            # append the new node\n",
    "            last.next = node\n",
    "        self.length = self.length + 1   \n",
    "                \n",
    "    def remove(self):\n",
    "        cargo = self.head.cargo\n",
    "        self.head = self.head.next\n",
    "        self.length = self.length - 1\n",
    "        return cargo\n",
    "            "
   ]
  },
  {
   "cell_type": "markdown",
   "metadata": {},
   "source": [
    "Two invariants for a properly formed `Queue` object are the value of `length` should be the number of nodes in the queue and the last node whould have `next` equal to `None`."
   ]
  },
  {
   "cell_type": "markdown",
   "metadata": {},
   "source": [
    "A constant time operation has no loops or function calls, which suggests the runtime will be the same every time. A linear time method has a runtime that is a linear function of the length (`insert` method above)."
   ]
  },
  {
   "cell_type": "markdown",
   "metadata": {},
   "source": [
    "To change Queue ADT to have only constant time operations, let's make `ImprovedQueue`."
   ]
  },
  {
   "cell_type": "code",
   "execution_count": 62,
   "metadata": {
    "collapsed": true
   },
   "outputs": [],
   "source": [
    "class ImprovedQueue:\n",
    "    def __init__(self):\n",
    "        self.length = 0\n",
    "        self.head = None\n",
    "        # this is a new attribute to keep track of the last node\n",
    "        self.last = None\n",
    "        \n",
    "    def isEmpty(self):\n",
    "        return (self.length == 0)\n",
    "    \n",
    "    def insert(self, cargo):\n",
    "        node = Node(cargo)\n",
    "        node.next = None\n",
    "        if self.length == 0:\n",
    "            # if the list is empty, the new node is head and last\n",
    "            self.head = self.last = node\n",
    "        else:\n",
    "            # find the last node\n",
    "            last = self.last\n",
    "            # append the new node\n",
    "            last.next = node\n",
    "            self.last = node\n",
    "        self.length = self.length + 1\n",
    "      \n",
    "    # must add a special case to remove to set last to None when the last node is removed\n",
    "    def remove(self):\n",
    "        cargo = self.head.cargo\n",
    "        self.head = self.head.next\n",
    "        self.length = self.length - 1\n",
    "        if self.length == 0:\n",
    "            self.last = None\n",
    "        return cargo"
   ]
  },
  {
   "cell_type": "markdown",
   "metadata": {},
   "source": [
    "The priority queue ADT has the same interface as the Queue ADT, but the item that is removed from the queue is not necessarily the first one that was added. It is the item in the queue that has the highest priority. "
   ]
  },
  {
   "cell_type": "code",
   "execution_count": 67,
   "metadata": {
    "collapsed": true
   },
   "outputs": [],
   "source": [
    "class PriorityQueue:\n",
    "    def __init__(self):\n",
    "        self.items = []\n",
    "        \n",
    "    def isEmpty(self):\n",
    "        return self.items == []\n",
    "    \n",
    "    def insert(self, item):\n",
    "        self.items.append(item)\n",
    "        \n",
    "    def remove(self):\n",
    "        # maxi hold the index of the highest priority item\n",
    "        maxi = 0\n",
    "        # we loop through, comparing the i-eth item to the champion\n",
    "        for i in range(1, len(self.items)):\n",
    "            # if the new item is bigger, the value of maxi is set to i\n",
    "            if self.items[i] > self.items[maxi]:\n",
    "                maxi = i\n",
    "        # this item is removed from the list and returned\n",
    "        item = self.items[maxi]\n",
    "        self.items[maxi:maxi+1] = []\n",
    "        return item"
   ]
  },
  {
   "cell_type": "code",
   "execution_count": 68,
   "metadata": {
    "collapsed": false
   },
   "outputs": [
    {
     "name": "stdout",
     "output_type": "stream",
     "text": [
      "14\n",
      "13\n",
      "12\n",
      "11\n"
     ]
    }
   ],
   "source": [
    "q = PriorityQueue()\n",
    "q.insert(11)\n",
    "q.insert(12)\n",
    "q.insert(14)\n",
    "q.insert(13)\n",
    "while not q.isEmpty(): print q.remove()"
   ]
  },
  {
   "cell_type": "markdown",
   "metadata": {},
   "source": [
    "Let's implement a class called `Golfer` that keeps track of the names and scores of golfers."
   ]
  },
  {
   "cell_type": "code",
   "execution_count": 71,
   "metadata": {
    "collapsed": true
   },
   "outputs": [],
   "source": [
    "class Golfer:\n",
    "    def __init__(self, name, score):\n",
    "        self.name = name\n",
    "        self.score = score\n",
    "        \n",
    "    # uses format operator to put the names and scores in neat columns    \n",
    "    def __str__(self):\n",
    "        return \"%-16s: %d\" % (self.name, self.score)\n",
    "    \n",
    "    # the lowest score gets highest priority\n",
    "    def __cmp__(self, other):\n",
    "        if self.score < other.score: return 1 # less is more\n",
    "        if self.score > other.score: return -1\n",
    "        return 0"
   ]
  },
  {
   "cell_type": "code",
   "execution_count": 73,
   "metadata": {
    "collapsed": true
   },
   "outputs": [],
   "source": [
    "tiger = Golfer(\"Tiger Woods\", 61)\n",
    "phil = Golfer(\"Phil Mickelson\", 72)\n",
    "hal = Golfer(\"Hal Sutton\", 69) "
   ]
  },
  {
   "cell_type": "code",
   "execution_count": 74,
   "metadata": {
    "collapsed": false
   },
   "outputs": [
    {
     "name": "stdout",
     "output_type": "stream",
     "text": [
      "Tiger Woods     : 61\n",
      "Hal Sutton      : 69\n",
      "Phil Mickelson  : 72\n"
     ]
    }
   ],
   "source": [
    "pq = PriorityQueue()\n",
    "pq.insert(tiger)\n",
    "pq.insert(phil)\n",
    "pq.insert(hal)\n",
    "while not pq.isEmpty(): print pq.remove()"
   ]
  },
  {
   "cell_type": "markdown",
   "metadata": {},
   "source": [
    "## Chapter 20: Trees"
   ]
  },
  {
   "cell_type": "markdown",
   "metadata": {},
   "source": [
    "Trees are made up of nodes. Binary trees have each nodes referring to two other nodes (possibly null). These references are the left and right subtrees. Tree nodes also contain cargo. The top of the tree is called the root. All other nodes are branches and the nodes at the tips with null references are called leaves. Sometimes the top node is called a parent, and the nodes it refers to are called its children. Nodes with the same parent are called siblings. All the nodes that are the same distance from the root comprise a level of a tree."
   ]
  },
  {
   "cell_type": "markdown",
   "metadata": {},
   "source": [
    "A tree is either:\n",
    " * the empty tree, represented by `None`, or\n",
    " * a node that contains an object reference and two tree references"
   ]
  },
  {
   "cell_type": "code",
   "execution_count": 79,
   "metadata": {
    "collapsed": true
   },
   "outputs": [],
   "source": [
    "class Tree:\n",
    "    def __init__(self, cargo, left=None, right=None):\n",
    "        self.cargo = cargo\n",
    "        self.left = left\n",
    "        self.right = right\n",
    "        \n",
    "    def __str__(self):\n",
    "        return str(self.cargo)"
   ]
  },
  {
   "cell_type": "code",
   "execution_count": 80,
   "metadata": {
    "collapsed": false
   },
   "outputs": [],
   "source": [
    "left = Tree(2)\n",
    "right = Tree(3)"
   ]
  },
  {
   "cell_type": "code",
   "execution_count": 81,
   "metadata": {
    "collapsed": true
   },
   "outputs": [],
   "source": [
    "tree = Tree(1, left, right)"
   ]
  },
  {
   "cell_type": "markdown",
   "metadata": {},
   "source": [
    "Anytime you see a new data structure, your first question should be \"How do I traverse it?\" The most natural way is recursively. If a tree contains integers as cargo, this function returns their sum:"
   ]
  },
  {
   "cell_type": "code",
   "execution_count": 82,
   "metadata": {
    "collapsed": true
   },
   "outputs": [],
   "source": [
    "def total(tree):\n",
    "    if tree == None: return 0\n",
    "    return total(tree.left) + total(tree.right) + tree.cargo"
   ]
  },
  {
   "cell_type": "markdown",
   "metadata": {},
   "source": [
    "A tree is a natural way to represent the structure of an expression. To represent the infix expression 1 + 2 * 3:"
   ]
  },
  {
   "cell_type": "code",
   "execution_count": 83,
   "metadata": {
    "collapsed": true
   },
   "outputs": [],
   "source": [
    "tree = Tree('+', Tree(1), Tree('*', Tree(2), Tree(3)))"
   ]
  },
  {
   "cell_type": "markdown",
   "metadata": {},
   "source": [
    "We can traverse an expression tree and print the contents like this (prints in preorder wehre the contents of the root appear before the contents of the children):"
   ]
  },
  {
   "cell_type": "code",
   "execution_count": 84,
   "metadata": {
    "collapsed": true
   },
   "outputs": [],
   "source": [
    "def printTree(tree):\n",
    "    if tree == None: return\n",
    "    print tree.cargo,\n",
    "    printTree(tree.left)\n",
    "    printTree(tree.right)"
   ]
  },
  {
   "cell_type": "code",
   "execution_count": 85,
   "metadata": {
    "collapsed": false
   },
   "outputs": [
    {
     "name": "stdout",
     "output_type": "stream",
     "text": [
      "+ 1 * 2 3\n"
     ]
    }
   ],
   "source": [
    "printTree(tree)"
   ]
  },
  {
   "cell_type": "markdown",
   "metadata": {},
   "source": [
    "This format is called prefix, where the operators appear before their operands."
   ]
  },
  {
   "cell_type": "markdown",
   "metadata": {},
   "source": [
    "You can traverse the tree in a different order. Let's print the subtrees first and then the root node. This is called postorder."
   ]
  },
  {
   "cell_type": "code",
   "execution_count": 88,
   "metadata": {
    "collapsed": true
   },
   "outputs": [],
   "source": [
    "def printTreePostorder(tree):\n",
    "    if tree == None: return\n",
    "    printTreePostorder(tree.left)\n",
    "    printTreePostorder(tree.right)\n",
    "    print tree.cargo,"
   ]
  },
  {
   "cell_type": "code",
   "execution_count": 89,
   "metadata": {
    "collapsed": false
   },
   "outputs": [
    {
     "name": "stdout",
     "output_type": "stream",
     "text": [
      "1 2 3 * +\n"
     ]
    }
   ],
   "source": [
    "printTreePostorder(tree)"
   ]
  },
  {
   "cell_type": "markdown",
   "metadata": {
    "collapsed": true
   },
   "source": [
    "To print a tree in order, print left tree, then the root, then the right tree:"
   ]
  },
  {
   "cell_type": "code",
   "execution_count": 90,
   "metadata": {
    "collapsed": true
   },
   "outputs": [],
   "source": [
    "def printTreeInorder(tree):\n",
    "    if tree == None: return\n",
    "    printTreeInorder(tree.left)\n",
    "    print tree.cargo,\n",
    "    printTreeInorder(tree.right)"
   ]
  },
  {
   "cell_type": "code",
   "execution_count": 91,
   "metadata": {
    "collapsed": false
   },
   "outputs": [
    {
     "name": "stdout",
     "output_type": "stream",
     "text": [
      "1 + 2 * 3\n"
     ]
    }
   ],
   "source": [
    "printTreeInorder(tree)"
   ]
  },
  {
   "cell_type": "markdown",
   "metadata": {},
   "source": [
    "If we do an inorder traversal and keep track of what level in the tree we are one, we can generate a graphical representation of a tree."
   ]
  },
  {
   "cell_type": "code",
   "execution_count": 92,
   "metadata": {
    "collapsed": true
   },
   "outputs": [],
   "source": [
    "def printTreeIndented(tree, level=0):\n",
    "    if tree == None: return\n",
    "    printTreeIndented(tree.right, level+1)\n",
    "    print '   '*level + str(tree.cargo)\n",
    "    printTreeIndented(tree.left, level+1)"
   ]
  },
  {
   "cell_type": "code",
   "execution_count": 93,
   "metadata": {
    "collapsed": false
   },
   "outputs": [
    {
     "name": "stdout",
     "output_type": "stream",
     "text": [
      "      3\n",
      "   *\n",
      "      2\n",
      "+\n",
      "   1\n"
     ]
    }
   ],
   "source": [
    "printTreeIndented(tree)"
   ]
  },
  {
   "cell_type": "markdown",
   "metadata": {},
   "source": [
    "We can look at the above sideways and see our original figure."
   ]
  },
  {
   "cell_type": "markdown",
   "metadata": {},
   "source": [
    "`getToken` takes a list and an expected token as arguments. It compares the expected token to the first token on the list: if they match, it removes the token from the list and returns true; otherwise, it returns false."
   ]
  },
  {
   "cell_type": "code",
   "execution_count": 94,
   "metadata": {
    "collapsed": true
   },
   "outputs": [],
   "source": [
    "def getToken(tokenList, expected):\n",
    "    if tokenList[0] == expected:\n",
    "        del tokenList[0]\n",
    "        return True\n",
    "    else:\n",
    "        return False"
   ]
  },
  {
   "cell_type": "markdown",
   "metadata": {},
   "source": [
    "`getNumber` handles operands. If the next token in `tokenList` is a number, `getNumber` removes it and returns a leaf node containing the number; otherwise, it returns `None`."
   ]
  },
  {
   "cell_type": "code",
   "execution_count": 95,
   "metadata": {
    "collapsed": true
   },
   "outputs": [],
   "source": [
    "def getNumber(tokenList):\n",
    "    x = tokenList[0]\n",
    "    if not isinstance(x, int): return None\n",
    "    del tokenList[0]\n",
    "    return Tree (x, None, None)"
   ]
  },
  {
   "cell_type": "code",
   "execution_count": 96,
   "metadata": {
    "collapsed": false
   },
   "outputs": [
    {
     "name": "stdout",
     "output_type": "stream",
     "text": [
      "9\n"
     ]
    }
   ],
   "source": [
    "tokenList = [9, 11, 'end']\n",
    "x = getNumber(tokenList)\n",
    "printTreePostorder(x)"
   ]
  },
  {
   "cell_type": "code",
   "execution_count": 97,
   "metadata": {
    "collapsed": false
   },
   "outputs": [
    {
     "name": "stdout",
     "output_type": "stream",
     "text": [
      "[11, 'end']\n"
     ]
    }
   ],
   "source": [
    "print tokenList"
   ]
  },
  {
   "cell_type": "markdown",
   "metadata": {},
   "source": [
    "`getProduct` builds an expression tree for products"
   ]
  },
  {
   "cell_type": "code",
   "execution_count": 98,
   "metadata": {
    "collapsed": true
   },
   "outputs": [],
   "source": [
    "def getProduct(tokenList):\n",
    "    a = getNumber(tokenList)\n",
    "    if getToken(tokenList, '*'):\n",
    "        b = getNumber(tokenList)\n",
    "        return Tree ('*', a, b)\n",
    "    else:\n",
    "        return a"
   ]
  },
  {
   "cell_type": "code",
   "execution_count": 99,
   "metadata": {
    "collapsed": false
   },
   "outputs": [
    {
     "name": "stdout",
     "output_type": "stream",
     "text": [
      "9 11 *\n"
     ]
    }
   ],
   "source": [
    "tokenList = [9, '*', 11, 'end']\n",
    "tree = getProduct(tokenList)\n",
    "printTreePostorder(tree)"
   ]
  },
  {
   "cell_type": "code",
   "execution_count": 100,
   "metadata": {
    "collapsed": false
   },
   "outputs": [
    {
     "name": "stdout",
     "output_type": "stream",
     "text": [
      "9\n"
     ]
    }
   ],
   "source": [
    "tokenList = [9, '+', 11, 'end']\n",
    "tree = getProduct(tokenList)\n",
    "printTreePostorder(tree)"
   ]
  },
  {
   "cell_type": "markdown",
   "metadata": {},
   "source": [
    "With a small change in `getProduct`, we can handle an arbitrarily long product."
   ]
  },
  {
   "cell_type": "code",
   "execution_count": 101,
   "metadata": {
    "collapsed": true
   },
   "outputs": [],
   "source": [
    "def getProduct(tokenList):\n",
    "    a = getNumber(tokenList)\n",
    "    if getToken(tokenList, '*'):\n",
    "        b = getProduct(tokenList)  # this line changed\n",
    "        return Tree('*', a, b)\n",
    "    else: \n",
    "        return a"
   ]
  },
  {
   "cell_type": "markdown",
   "metadata": {},
   "source": [
    "A product can be either a singleton or a tree with * at the root, a number on the left, and a product on the right."
   ]
  },
  {
   "cell_type": "code",
   "execution_count": 102,
   "metadata": {
    "collapsed": false
   },
   "outputs": [
    {
     "name": "stdout",
     "output_type": "stream",
     "text": [
      "2 3 5 7 * * *\n"
     ]
    }
   ],
   "source": [
    "tokenList = [2, '*', 3, '*', 5, '*', 7, 'end']\n",
    "tree = getProduct(tokenList)\n",
    "printTreePostorder(tree)"
   ]
  },
  {
   "cell_type": "markdown",
   "metadata": {},
   "source": [
    "Now, let's add the ability to parse sums. A sum can be a tree with + at the root, a product on the left, and a sum on the right. Or, a sum can be just a product. With this definition, we can represent any expression (without parenthesis) as a sum of products. "
   ]
  },
  {
   "cell_type": "markdown",
   "metadata": {},
   "source": [
    "`getSum` tries to build a tree with a product on the left and a sum on the right. If it doesn't find a +, it just builds a product."
   ]
  },
  {
   "cell_type": "code",
   "execution_count": 103,
   "metadata": {
    "collapsed": true
   },
   "outputs": [],
   "source": [
    "def getSum(tokenList):\n",
    "    a = getProduct(tokenList)\n",
    "    if getToken(tokenList, '+'):\n",
    "        b = getSum(tokenList)\n",
    "        return Tree('+', a, b)\n",
    "    else:\n",
    "        return a"
   ]
  },
  {
   "cell_type": "code",
   "execution_count": 104,
   "metadata": {
    "collapsed": false
   },
   "outputs": [
    {
     "name": "stdout",
     "output_type": "stream",
     "text": [
      "9 11 * 5 7 * +\n"
     ]
    }
   ],
   "source": [
    "tokenList = [9, '*', 11, '+', 5, '*', 7, 'end']\n",
    "tree = getSum(tokenList)\n",
    "printTreePostorder(tree)"
   ]
  },
  {
   "cell_type": "markdown",
   "metadata": {},
   "source": [
    "Now, we must modify `getNumber` to handle parenthesis."
   ]
  },
  {
   "cell_type": "code",
   "execution_count": 105,
   "metadata": {
    "collapsed": true
   },
   "outputs": [],
   "source": [
    "def getNumber(tokenList):\n",
    "    if getToken(tokenList, '('):\n",
    "        x = getSum(tokenList)      # get the subexpression\n",
    "        getToken(tokenList, ')')   # remove the closing parenthesis\n",
    "        return x\n",
    "    else:\n",
    "        x = tokenList[0]\n",
    "        if not isinstance(x, int): return None\n",
    "        tokenList[0:1] = []\n",
    "        return Tree (x, None, None)"
   ]
  },
  {
   "cell_type": "code",
   "execution_count": 106,
   "metadata": {
    "collapsed": false
   },
   "outputs": [
    {
     "name": "stdout",
     "output_type": "stream",
     "text": [
      "9 11 5 + 7 * *\n"
     ]
    }
   ],
   "source": [
    "tokenList = [9, '*', '(', 11, '+', 5, ')', '*', 7, 'end']\n",
    "tree = getSum(tokenList)\n",
    "printTreePostorder(tree)"
   ]
  },
  {
   "cell_type": "markdown",
   "metadata": {},
   "source": [
    "We need to be able to deal with errors."
   ]
  },
  {
   "cell_type": "code",
   "execution_count": 107,
   "metadata": {
    "collapsed": true
   },
   "outputs": [],
   "source": [
    "def getNumber(tokenList):\n",
    "    if getToken(tokenList, '('):\n",
    "        x = getSum(tokenList)   \n",
    "        if not getToken(tokenList, ')'):\n",
    "            raise ValueError, 'missing parenthesis'\n",
    "        return x\n",
    "    else:\n",
    "        x = tokenList[0]\n",
    "        if not isinstance(x, int): return None\n",
    "        tokenList[0:1] = []\n",
    "        return Tree (x, None, None)"
   ]
  },
  {
   "cell_type": "markdown",
   "metadata": {},
   "source": [
    "Here is a small program that uses trees to represent a knowledge base. The program interacts with the user to create a tree of questions and animal names."
   ]
  },
  {
   "cell_type": "code",
   "execution_count": 116,
   "metadata": {
    "collapsed": false
   },
   "outputs": [],
   "source": [
    "def animal():\n",
    "    # start with a singleton\n",
    "    root = Tree(\"bird\")\n",
    "    \n",
    "    # loop until the user quits\n",
    "    while True:\n",
    "        print\n",
    "        if not yes(\"Are you thinking of an animal? \"): break\n",
    "            \n",
    "        # walk the tree\n",
    "        tree = root\n",
    "        while tree.getLeft() != None:\n",
    "            prompt = tree.getCargo() + \"? \"\n",
    "            if yes(prompt):\n",
    "                tree = tree.getRight()\n",
    "            else: tree = tree.getLeft()\n",
    "        \n",
    "        # make a guess\n",
    "        guess = tree.getCargo()\n",
    "        prompt = \"Is it a \" + guess + \"? \"\n",
    "        if yes(prompt):\n",
    "            print \"I rule!\"\n",
    "            continue\n",
    "        \n",
    "        # get new information\n",
    "        prompt = \"What is the animal's name? \"\n",
    "        animal = raw_input(prompt)\n",
    "        prompt = \"What question would distinguish a %s from a %s? \" \n",
    "        question = raw_input(prompt % (animal,guess))\n",
    "    \n",
    "        # add new information to the tree\n",
    "        tree.setCargo(question)\n",
    "        prompt = \"If the animal were %s the answer would be? \"\n",
    "        if yes(prompt % animal):\n",
    "            tree.setLeft(Tree(guess))\n",
    "            tree.setRight(Tree(animal))\n",
    "        else:\n",
    "            tree.setLeft(Tree(animal))\n",
    "            tree.setRight(Tree(guess)) \n",
    "            "
   ]
  },
  {
   "cell_type": "code",
   "execution_count": 117,
   "metadata": {
    "collapsed": true
   },
   "outputs": [],
   "source": [
    "def yes(ques):\n",
    "    from string import lower\n",
    "    ans = lower(raw_input(ques))\n",
    "    return (ans[0] == 'y')"
   ]
  }
 ],
 "metadata": {
  "kernelspec": {
   "display_name": "Python 2",
   "language": "python",
   "name": "python2"
  },
  "language_info": {
   "codemirror_mode": {
    "name": "ipython",
    "version": 2
   },
   "file_extension": ".py",
   "mimetype": "text/x-python",
   "name": "python",
   "nbconvert_exporter": "python",
   "pygments_lexer": "ipython2",
   "version": "2.7.11"
  }
 },
 "nbformat": 4,
 "nbformat_minor": 0
}
